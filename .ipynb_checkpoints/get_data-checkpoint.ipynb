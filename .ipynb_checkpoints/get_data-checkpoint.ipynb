{
 "cells": [
  {
   "cell_type": "code",
   "execution_count": 6,
   "id": "5e087718-d302-4d20-ba7a-3d5f99a02b20",
   "metadata": {},
   "outputs": [],
   "source": [
    "from google.cloud import bigquery\n",
    "import pandas as pd\n",
    "import pandas_gbq\n",
    "import os"
   ]
  },
  {
   "cell_type": "code",
   "execution_count": 14,
   "id": "e7a3be6f-cd58-4beb-ad7c-f7c0275b6dd4",
   "metadata": {},
   "outputs": [],
   "source": [
    "mypath = './data'\n",
    "files = [f for f in os.listdir(mypath) if os.path.isfile(os.path.join(mypath, f))]"
   ]
  },
  {
   "cell_type": "code",
   "execution_count": 15,
   "id": "0f162fe9-7c39-446a-9495-d2f96c950ecc",
   "metadata": {},
   "outputs": [
    {
     "data": {
      "text/plain": [
       "['NBA_PBP_2016-17.csv',\n",
       " 'NBA_PBP_2020-21.csv',\n",
       " 'NBA_PBP_2018-19.csv',\n",
       " 'NBA_PBP_2017-18.csv',\n",
       " 'NBA_PBP_2015-16.csv',\n",
       " 'NBA_PBP_2019-20.csv']"
      ]
     },
     "execution_count": 15,
     "metadata": {},
     "output_type": "execute_result"
    }
   ],
   "source": []
  },
  {
   "cell_type": "code",
   "execution_count": null,
   "id": "aa70b961-21f0-4a46-b883-b202fcd6d522",
   "metadata": {},
   "outputs": [],
   "source": []
  }
 ],
 "metadata": {
  "environment": {
   "kernel": "python3",
   "name": "common-cpu.m82",
   "type": "gcloud",
   "uri": "gcr.io/deeplearning-platform-release/base-cpu:m82"
  },
  "kernelspec": {
   "display_name": "Python 3",
   "language": "python",
   "name": "python3"
  },
  "language_info": {
   "codemirror_mode": {
    "name": "ipython",
    "version": 3
   },
   "file_extension": ".py",
   "mimetype": "text/x-python",
   "name": "python",
   "nbconvert_exporter": "python",
   "pygments_lexer": "ipython3",
   "version": "3.7.10"
  }
 },
 "nbformat": 4,
 "nbformat_minor": 5
}
