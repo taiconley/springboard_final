{
 "cells": [
  {
   "cell_type": "code",
   "execution_count": null,
   "metadata": {
    "scrolled": true
   },
   "outputs": [],
   "source": [
    "import pyspark\n",
    "import glob\n",
    "import pandas as pd\n",
    "\n",
    "\n",
    "\n",
    "if 'sc' not in locals():\n",
    "    from pyspark.context import SparkContext\n",
    "    from pyspark.sql.context import SQLContext\n",
    "    from pyspark.sql.session import SparkSession\n",
    "    \n",
    "    sc = SparkContext()\n",
    "    sqlContext = SQLContext(sc)\n",
    "    spark = SparkSession(sc)\n",
    "\n",
    "spark"
   ]
  },
  {
   "cell_type": "code",
   "execution_count": null,
   "metadata": {},
   "outputs": [],
   "source": [
    "print(glob.glob(\"data/NBA*\"))"
   ]
  },
  {
   "cell_type": "code",
   "execution_count": null,
   "metadata": {},
   "outputs": [],
   "source": [
    "mypath = './data'\n",
    "files =  glob.glob(\"data/NBA*\")\n",
    "\n",
    "\n",
    "for file in files:\n",
    "    df = pd.read_csv(file)\n",
    "    if \"Unnamed: 40\" in df.columns:\n",
    "        df = df.drop([\"Unnamed: 40\"], axis=1)"
   ]
  },
  {
   "cell_type": "code",
   "execution_count": null,
   "metadata": {},
   "outputs": [],
   "source": [
    "from pyspark.sql.types import *\n",
    "\n",
    "# Auxiliar functions\n",
    "def equivalent_type(f):\n",
    "    if f == 'datetime64[ns]': return TimestampType()\n",
    "    elif f == 'int64': return LongType()\n",
    "    elif f == 'int32': return IntegerType()\n",
    "    elif f == 'float64': return FloatType()\n",
    "    else: return StringType()\n",
    "\n",
    "def define_structure(string, format_type):\n",
    "    try: typo = equivalent_type(format_type)\n",
    "    except: typo = StringType()\n",
    "    return StructField(string, typo)\n",
    "\n",
    "# Given pandas dataframe, it will return a spark's dataframe.\n",
    "def pandas_to_spark(pandas_df):\n",
    "    columns = list(pandas_df.columns)\n",
    "    types = list(pandas_df.dtypes)\n",
    "    struct_list = []\n",
    "    for column, typo in zip(columns, types): \n",
    "      struct_list.append(define_structure(column, typo))\n",
    "    p_schema = StructType(struct_list)\n",
    "    return sqlContext.createDataFrame(pandas_df, p_schema)"
   ]
  },
  {
   "cell_type": "code",
   "execution_count": null,
   "metadata": {
    "scrolled": false
   },
   "outputs": [],
   "source": [
    "mypath = './data'\n",
    "files =  glob.glob(\"data/NBA*\")\n",
    "\n",
    "spark_table_games = \"games\"\n",
    "for file in files:\n",
    "    df = pd.read_csv(file)\n",
    "    if \"Unnamed: 40\" in df.columns:\n",
    "        df = df.drop([\"Unnamed: 40\"], axis=1)\n",
    "    sparkDF=spark.createDataFrame(df) \n",
    "    sparkDF.write.format(\"parquet\").saveAsTable(spark_table_games, mode='append')"
   ]
  },
  {
   "cell_type": "code",
   "execution_count": null,
   "metadata": {},
   "outputs": [],
   "source": [
    "type(df)"
   ]
  },
  {
   "cell_type": "code",
   "execution_count": null,
   "metadata": {},
   "outputs": [],
   "source": [
    "spark.sql(f\"drop table games\")"
   ]
  },
  {
   "cell_type": "code",
   "execution_count": null,
   "metadata": {},
   "outputs": [],
   "source": [
    "type(spark_df)"
   ]
  },
  {
   "cell_type": "code",
   "execution_count": null,
   "metadata": {},
   "outputs": [],
   "source": [
    "csv_files = glob.glob(\"data/NBA*\")\n",
    "\n",
    "file_type = \"csv\"\n",
    "\n",
    "# CSV options\n",
    "infer_schema = \"true\"\n",
    "first_row_is_header = \"true\"\n",
    "delimiter = \",\"\n",
    "\n",
    "# The applied options are for CSV files. For other file types, these will be ignored.\n",
    "df_games = (spark.read.format(file_type) \n",
    "                    .option(\"inferSchema\", infer_schema) \n",
    "                    .option(\"header\", first_row_is_header) \n",
    "                    .option(\"sep\", delimiter) \n",
    "                    .load(csv_files))\n"
   ]
  },
  {
   "cell_type": "code",
   "execution_count": null,
   "metadata": {},
   "outputs": [],
   "source": [
    "df_games.printSchema()"
   ]
  },
  {
   "cell_type": "code",
   "execution_count": null,
   "metadata": {},
   "outputs": [],
   "source": [
    "# create table\n",
    "spark_table_games = \"games\"\n",
    "df_games.write.format(\"parquet\").saveAsTable(spark_table_games)"
   ]
  },
  {
   "cell_type": "code",
   "execution_count": null,
   "metadata": {},
   "outputs": [],
   "source": [
    "spark.sql(\"SELECT count(*) from games\").collect()"
   ]
  },
  {
   "cell_type": "code",
   "execution_count": null,
   "metadata": {},
   "outputs": [],
   "source": []
  },
  {
   "cell_type": "code",
   "execution_count": null,
   "metadata": {},
   "outputs": [],
   "source": [
    "###################################\n",
    "# Using database below"
   ]
  },
  {
   "cell_type": "code",
   "execution_count": 1,
   "metadata": {},
   "outputs": [],
   "source": [
    "from databaseClass import DB\n",
    "import utils\n",
    "import sql_files\n",
    "import numpy as np\n",
    "import pandas as pd"
   ]
  },
  {
   "cell_type": "code",
   "execution_count": 2,
   "metadata": {},
   "outputs": [],
   "source": [
    "userName = utils.userName\n",
    "userPass = utils.userPass\n",
    "dbName = utils.dbName\n"
   ]
  },
  {
   "cell_type": "code",
   "execution_count": 3,
   "metadata": {},
   "outputs": [],
   "source": [
    "db = DB(userName = userName, userPass = userPass, dataBaseName = dbName)"
   ]
  },
  {
   "cell_type": "code",
   "execution_count": 4,
   "metadata": {},
   "outputs": [],
   "source": [
    "def generate_sql(input_sql_file):\n",
    "    with open(input_sql_file, 'r') as file:\n",
    "        sql = file.read()\n",
    "        return sql\n",
    "    \n",
    "def build_table(sql_file, table_name):\n",
    "    '''postgres does not have a create or replace table option.  so we do that here instead'''\n",
    "    try:\n",
    "        db.BuildTableFromQuery(generate_sql(sql_file), table_name)\n",
    "    except:\n",
    "        db.dropTable(table_name)\n",
    "        db.BuildTableFromQuery(generate_sql(sql_file), table_name)"
   ]
  },
  {
   "cell_type": "code",
   "execution_count": null,
   "metadata": {},
   "outputs": [],
   "source": [
    "build_table('sql_files/game_scores.sql', 'game_scores')"
   ]
  },
  {
   "cell_type": "code",
   "execution_count": null,
   "metadata": {},
   "outputs": [],
   "source": [
    "build_table('sql_files/shot_performance.sql', 'player_game_shot_performance')"
   ]
  },
  {
   "cell_type": "code",
   "execution_count": null,
   "metadata": {},
   "outputs": [],
   "source": [
    "build_table('sql_files/game_rosters_1.sql', 'game_rosters_1')"
   ]
  },
  {
   "cell_type": "code",
   "execution_count": null,
   "metadata": {},
   "outputs": [],
   "source": [
    "build_table('sql_files/game_rosters_2.sql', 'game_rosters_2')"
   ]
  },
  {
   "cell_type": "code",
   "execution_count": null,
   "metadata": {},
   "outputs": [],
   "source": [
    "build_table('sql_files/game_rebounds.sql', 'game_rebounds')"
   ]
  },
  {
   "cell_type": "code",
   "execution_count": null,
   "metadata": {},
   "outputs": [],
   "source": [
    "build_table('sql_files/output.sql', 'output')"
   ]
  },
  {
   "cell_type": "code",
   "execution_count": null,
   "metadata": {},
   "outputs": [],
   "source": [
    "db.DBtoDF(generate_sql('sql_files/shot_performance.sql'))"
   ]
  },
  {
   "cell_type": "code",
   "execution_count": null,
   "metadata": {},
   "outputs": [],
   "source": []
  },
  {
   "cell_type": "code",
   "execution_count": null,
   "metadata": {},
   "outputs": [],
   "source": [
    "df = db.DBtoDF(generate_sql('sql_files/test.sql'))"
   ]
  },
  {
   "cell_type": "code",
   "execution_count": null,
   "metadata": {},
   "outputs": [],
   "source": [
    "df['regexp_match'].iloc[1][0]"
   ]
  },
  {
   "cell_type": "code",
   "execution_count": null,
   "metadata": {
    "scrolled": true
   },
   "outputs": [],
   "source": [
    "##################\n",
    "\n",
    "df_games = db.DBtoDF(generate_sql('sql_files/output.sql'))"
   ]
  },
  {
   "cell_type": "code",
   "execution_count": null,
   "metadata": {
    "scrolled": true
   },
   "outputs": [],
   "source": [
    "df_games.info()"
   ]
  },
  {
   "cell_type": "code",
   "execution_count": null,
   "metadata": {},
   "outputs": [],
   "source": [
    "df_games[df_games['team'].notnull()]"
   ]
  },
  {
   "cell_type": "code",
   "execution_count": null,
   "metadata": {},
   "outputs": [],
   "source": [
    "df_games['player'] = df_games['player'].str[0]"
   ]
  },
  {
   "cell_type": "code",
   "execution_count": null,
   "metadata": {},
   "outputs": [],
   "source": [
    "df_games['player_team'] = df_games['player'] #this cell only used for testing"
   ]
  },
  {
   "cell_type": "code",
   "execution_count": null,
   "metadata": {
    "scrolled": true
   },
   "outputs": [],
   "source": [
    "df_games['player_team'] = df_games['player'] + \"_\" + df_games['team']"
   ]
  },
  {
   "cell_type": "code",
   "execution_count": null,
   "metadata": {
    "scrolled": false
   },
   "outputs": [],
   "source": [
    "df_games.head(20)"
   ]
  },
  {
   "cell_type": "code",
   "execution_count": null,
   "metadata": {},
   "outputs": [],
   "source": []
  },
  {
   "cell_type": "code",
   "execution_count": null,
   "metadata": {
    "scrolled": true
   },
   "outputs": [],
   "source": [
    "df_games[df_games['player_team'] == 'A. Baynes_DET'].sort_values('url')"
   ]
  },
  {
   "cell_type": "code",
   "execution_count": null,
   "metadata": {},
   "outputs": [],
   "source": [
    "df_temp = df_games[df_games['player_team'] == 'A. Baynes_DET'].drop(columns=['homescore', 'awayscore'])"
   ]
  },
  {
   "cell_type": "code",
   "execution_count": null,
   "metadata": {},
   "outputs": [],
   "source": []
  },
  {
   "cell_type": "code",
   "execution_count": null,
   "metadata": {
    "scrolled": true
   },
   "outputs": [],
   "source": [
    "def get_data():\n",
    "    df_games = db.DBtoDF(generate_sql('sql_files/output.sql'))\n",
    "    df_games = df_games[df_games['team'].notnull()]\n",
    "    df_games['player'] = df_games['player'].str[0]\n",
    "    df_games['player_team'] = df_games['player'] + \"_\" + df_games['team']\n",
    "    player_names = df_games['player_team'].unique()\n",
    "    player_names = player_names[~pd.isnull(player_names)] #remove empty player names\n",
    "    return df_games, player_names\n",
    "\n",
    "def pre_process_df(player_team):\n",
    "    df_temp = df_games[df_games['player_team'] == player_team].drop(columns=['homescore', 'awayscore'])\n",
    "    df_temp = df_temp.rolling(window=3)\n",
    "    df_temp = df_temp.mean().round(decimals=2)\n",
    "    df_temp['player_team'] = player_team\n",
    "    return df_temp\n",
    "\n",
    "df_games, player_names = get_data()\n",
    "\n",
    "df_list = []\n",
    "for player in player_names:\n",
    "    df_list.append(pre_process_df(player))\n",
    "\n",
    "df = pd.concat(df_list, axis=0)\n",
    "df_merged = df_games.merge(df, how='outer', left_index=True, right_index=True)\n",
    "df_merged = df_merged[~df_merged['two_point_shots_made_y'].isnull()]\n",
    "df_merged['spread_target'] = df_merged['homescore'] - df_merged['awayscore']\n",
    "\n",
    "columns_to_drop = ['date', 'player','two_point_shots_made_x', \n",
    "                      'two_point_shots_x', 'three_point_shots_made_x',\n",
    "                      'three_point_shots_made_x', 'three_point_shots_x',\n",
    "                      'total_makes_x', 'total_shots_x', 'defensive_rebounds_x',\n",
    "                      'offensive_rebounds_x', 'homescore', 'awayscore', 'player_team_x'\n",
    "                     ]\n",
    "\n",
    "df_merged = df_merged.drop(columns_to_drop, axis=1)\n",
    "# at this stage, we've sent the final data to postgres.  next step is back to python, then pivot and prep for modeling\n"
   ]
  },
  {
   "cell_type": "code",
   "execution_count": 13,
   "metadata": {},
   "outputs": [],
   "source": [
    "df_final = db.DBtoDF(generate_sql('sql_files/final.sql'))\n",
    "\n",
    "#values are the features we plan to use for modeling\n",
    "values = ['two_point_shots_made_y','two_point_shots_y',\n",
    "          'three_point_shots_made_y','three_point_shots_y',\n",
    "          'total_makes_y','total_shots_y','defensive_rebounds_y',\n",
    "          'offensive_rebounds_y', 'spread_target']\n",
    "\n",
    "#df is now going to be in the right shape for modeling\n",
    "df_final = pd.pivot_table(df_final, values=values, \n",
    "                                   columns=['player_team_y'],\n",
    "                                   index='url',\n",
    "                                  aggfunc=np.mean)\n",
    "#collapsing the pivot multi index\n",
    "df_final.columns = df_final.columns.to_series().str.join('_')"
   ]
  },
  {
   "cell_type": "code",
   "execution_count": 14,
   "metadata": {},
   "outputs": [
    {
     "data": {
      "text/html": [
       "<div>\n",
       "<style scoped>\n",
       "    .dataframe tbody tr th:only-of-type {\n",
       "        vertical-align: middle;\n",
       "    }\n",
       "\n",
       "    .dataframe tbody tr th {\n",
       "        vertical-align: top;\n",
       "    }\n",
       "\n",
       "    .dataframe thead th {\n",
       "        text-align: right;\n",
       "    }\n",
       "</style>\n",
       "<table border=\"1\" class=\"dataframe\">\n",
       "  <thead>\n",
       "    <tr style=\"text-align: right;\">\n",
       "      <th></th>\n",
       "      <th>defensive_rebounds_y_A. Afflalo_NYK</th>\n",
       "      <th>defensive_rebounds_y_A. Afflalo_ORL</th>\n",
       "      <th>defensive_rebounds_y_A. Afflalo_SAC</th>\n",
       "      <th>defensive_rebounds_y_A. Aminu_ORL</th>\n",
       "      <th>defensive_rebounds_y_A. Aminu_POR</th>\n",
       "      <th>defensive_rebounds_y_A. Anderson_LAC</th>\n",
       "      <th>defensive_rebounds_y_A. Anderson_WAS</th>\n",
       "      <th>defensive_rebounds_y_A. Bargnani_BRK</th>\n",
       "      <th>defensive_rebounds_y_A. Baynes_BOS</th>\n",
       "      <th>defensive_rebounds_y_A. Baynes_DET</th>\n",
       "      <th>...</th>\n",
       "      <th>two_point_shots_y_Z. La_MIN</th>\n",
       "      <th>two_point_shots_y_Z. Norvell_GSW</th>\n",
       "      <th>two_point_shots_y_Z. Pachulia_DAL</th>\n",
       "      <th>two_point_shots_y_Z. Pachulia_DET</th>\n",
       "      <th>two_point_shots_y_Z. Pachulia_GSW</th>\n",
       "      <th>two_point_shots_y_Z. Qi_HOU</th>\n",
       "      <th>two_point_shots_y_Z. Randolph_MEM</th>\n",
       "      <th>two_point_shots_y_Z. Randolph_SAC</th>\n",
       "      <th>two_point_shots_y_Z. Smith_PHI</th>\n",
       "      <th>two_point_shots_y_Z. Williamson_NOP</th>\n",
       "    </tr>\n",
       "    <tr>\n",
       "      <th>url</th>\n",
       "      <th></th>\n",
       "      <th></th>\n",
       "      <th></th>\n",
       "      <th></th>\n",
       "      <th></th>\n",
       "      <th></th>\n",
       "      <th></th>\n",
       "      <th></th>\n",
       "      <th></th>\n",
       "      <th></th>\n",
       "      <th></th>\n",
       "      <th></th>\n",
       "      <th></th>\n",
       "      <th></th>\n",
       "      <th></th>\n",
       "      <th></th>\n",
       "      <th></th>\n",
       "      <th></th>\n",
       "      <th></th>\n",
       "      <th></th>\n",
       "      <th></th>\n",
       "    </tr>\n",
       "  </thead>\n",
       "  <tbody>\n",
       "    <tr>\n",
       "      <th>/boxscores/201510300ATL.html</th>\n",
       "      <td>NaN</td>\n",
       "      <td>NaN</td>\n",
       "      <td>NaN</td>\n",
       "      <td>NaN</td>\n",
       "      <td>NaN</td>\n",
       "      <td>NaN</td>\n",
       "      <td>NaN</td>\n",
       "      <td>NaN</td>\n",
       "      <td>NaN</td>\n",
       "      <td>NaN</td>\n",
       "      <td>...</td>\n",
       "      <td>NaN</td>\n",
       "      <td>NaN</td>\n",
       "      <td>NaN</td>\n",
       "      <td>NaN</td>\n",
       "      <td>NaN</td>\n",
       "      <td>NaN</td>\n",
       "      <td>NaN</td>\n",
       "      <td>NaN</td>\n",
       "      <td>NaN</td>\n",
       "      <td>NaN</td>\n",
       "    </tr>\n",
       "    <tr>\n",
       "      <th>/boxscores/201510300CLE.html</th>\n",
       "      <td>NaN</td>\n",
       "      <td>NaN</td>\n",
       "      <td>NaN</td>\n",
       "      <td>NaN</td>\n",
       "      <td>NaN</td>\n",
       "      <td>NaN</td>\n",
       "      <td>NaN</td>\n",
       "      <td>NaN</td>\n",
       "      <td>NaN</td>\n",
       "      <td>NaN</td>\n",
       "      <td>...</td>\n",
       "      <td>NaN</td>\n",
       "      <td>NaN</td>\n",
       "      <td>NaN</td>\n",
       "      <td>NaN</td>\n",
       "      <td>NaN</td>\n",
       "      <td>NaN</td>\n",
       "      <td>NaN</td>\n",
       "      <td>NaN</td>\n",
       "      <td>NaN</td>\n",
       "      <td>NaN</td>\n",
       "    </tr>\n",
       "    <tr>\n",
       "      <th>/boxscores/201510300DET.html</th>\n",
       "      <td>NaN</td>\n",
       "      <td>NaN</td>\n",
       "      <td>NaN</td>\n",
       "      <td>NaN</td>\n",
       "      <td>NaN</td>\n",
       "      <td>NaN</td>\n",
       "      <td>NaN</td>\n",
       "      <td>NaN</td>\n",
       "      <td>NaN</td>\n",
       "      <td>3.33</td>\n",
       "      <td>...</td>\n",
       "      <td>NaN</td>\n",
       "      <td>NaN</td>\n",
       "      <td>NaN</td>\n",
       "      <td>NaN</td>\n",
       "      <td>NaN</td>\n",
       "      <td>NaN</td>\n",
       "      <td>NaN</td>\n",
       "      <td>NaN</td>\n",
       "      <td>NaN</td>\n",
       "      <td>NaN</td>\n",
       "    </tr>\n",
       "    <tr>\n",
       "      <th>/boxscores/201510310IND.html</th>\n",
       "      <td>NaN</td>\n",
       "      <td>NaN</td>\n",
       "      <td>NaN</td>\n",
       "      <td>NaN</td>\n",
       "      <td>NaN</td>\n",
       "      <td>NaN</td>\n",
       "      <td>NaN</td>\n",
       "      <td>NaN</td>\n",
       "      <td>NaN</td>\n",
       "      <td>NaN</td>\n",
       "      <td>...</td>\n",
       "      <td>NaN</td>\n",
       "      <td>NaN</td>\n",
       "      <td>NaN</td>\n",
       "      <td>NaN</td>\n",
       "      <td>NaN</td>\n",
       "      <td>NaN</td>\n",
       "      <td>NaN</td>\n",
       "      <td>NaN</td>\n",
       "      <td>NaN</td>\n",
       "      <td>NaN</td>\n",
       "    </tr>\n",
       "    <tr>\n",
       "      <th>/boxscores/201510310LAC.html</th>\n",
       "      <td>NaN</td>\n",
       "      <td>NaN</td>\n",
       "      <td>NaN</td>\n",
       "      <td>NaN</td>\n",
       "      <td>NaN</td>\n",
       "      <td>NaN</td>\n",
       "      <td>NaN</td>\n",
       "      <td>NaN</td>\n",
       "      <td>NaN</td>\n",
       "      <td>NaN</td>\n",
       "      <td>...</td>\n",
       "      <td>NaN</td>\n",
       "      <td>NaN</td>\n",
       "      <td>NaN</td>\n",
       "      <td>NaN</td>\n",
       "      <td>NaN</td>\n",
       "      <td>NaN</td>\n",
       "      <td>NaN</td>\n",
       "      <td>NaN</td>\n",
       "      <td>NaN</td>\n",
       "      <td>NaN</td>\n",
       "    </tr>\n",
       "  </tbody>\n",
       "</table>\n",
       "<p>5 rows × 15377 columns</p>\n",
       "</div>"
      ],
      "text/plain": [
       "                              defensive_rebounds_y_A. Afflalo_NYK  \\\n",
       "url                                                                 \n",
       "/boxscores/201510300ATL.html                                  NaN   \n",
       "/boxscores/201510300CLE.html                                  NaN   \n",
       "/boxscores/201510300DET.html                                  NaN   \n",
       "/boxscores/201510310IND.html                                  NaN   \n",
       "/boxscores/201510310LAC.html                                  NaN   \n",
       "\n",
       "                              defensive_rebounds_y_A. Afflalo_ORL  \\\n",
       "url                                                                 \n",
       "/boxscores/201510300ATL.html                                  NaN   \n",
       "/boxscores/201510300CLE.html                                  NaN   \n",
       "/boxscores/201510300DET.html                                  NaN   \n",
       "/boxscores/201510310IND.html                                  NaN   \n",
       "/boxscores/201510310LAC.html                                  NaN   \n",
       "\n",
       "                              defensive_rebounds_y_A. Afflalo_SAC  \\\n",
       "url                                                                 \n",
       "/boxscores/201510300ATL.html                                  NaN   \n",
       "/boxscores/201510300CLE.html                                  NaN   \n",
       "/boxscores/201510300DET.html                                  NaN   \n",
       "/boxscores/201510310IND.html                                  NaN   \n",
       "/boxscores/201510310LAC.html                                  NaN   \n",
       "\n",
       "                              defensive_rebounds_y_A. Aminu_ORL  \\\n",
       "url                                                               \n",
       "/boxscores/201510300ATL.html                                NaN   \n",
       "/boxscores/201510300CLE.html                                NaN   \n",
       "/boxscores/201510300DET.html                                NaN   \n",
       "/boxscores/201510310IND.html                                NaN   \n",
       "/boxscores/201510310LAC.html                                NaN   \n",
       "\n",
       "                              defensive_rebounds_y_A. Aminu_POR  \\\n",
       "url                                                               \n",
       "/boxscores/201510300ATL.html                                NaN   \n",
       "/boxscores/201510300CLE.html                                NaN   \n",
       "/boxscores/201510300DET.html                                NaN   \n",
       "/boxscores/201510310IND.html                                NaN   \n",
       "/boxscores/201510310LAC.html                                NaN   \n",
       "\n",
       "                              defensive_rebounds_y_A. Anderson_LAC  \\\n",
       "url                                                                  \n",
       "/boxscores/201510300ATL.html                                   NaN   \n",
       "/boxscores/201510300CLE.html                                   NaN   \n",
       "/boxscores/201510300DET.html                                   NaN   \n",
       "/boxscores/201510310IND.html                                   NaN   \n",
       "/boxscores/201510310LAC.html                                   NaN   \n",
       "\n",
       "                              defensive_rebounds_y_A. Anderson_WAS  \\\n",
       "url                                                                  \n",
       "/boxscores/201510300ATL.html                                   NaN   \n",
       "/boxscores/201510300CLE.html                                   NaN   \n",
       "/boxscores/201510300DET.html                                   NaN   \n",
       "/boxscores/201510310IND.html                                   NaN   \n",
       "/boxscores/201510310LAC.html                                   NaN   \n",
       "\n",
       "                              defensive_rebounds_y_A. Bargnani_BRK  \\\n",
       "url                                                                  \n",
       "/boxscores/201510300ATL.html                                   NaN   \n",
       "/boxscores/201510300CLE.html                                   NaN   \n",
       "/boxscores/201510300DET.html                                   NaN   \n",
       "/boxscores/201510310IND.html                                   NaN   \n",
       "/boxscores/201510310LAC.html                                   NaN   \n",
       "\n",
       "                              defensive_rebounds_y_A. Baynes_BOS  \\\n",
       "url                                                                \n",
       "/boxscores/201510300ATL.html                                 NaN   \n",
       "/boxscores/201510300CLE.html                                 NaN   \n",
       "/boxscores/201510300DET.html                                 NaN   \n",
       "/boxscores/201510310IND.html                                 NaN   \n",
       "/boxscores/201510310LAC.html                                 NaN   \n",
       "\n",
       "                              defensive_rebounds_y_A. Baynes_DET  ...  \\\n",
       "url                                                               ...   \n",
       "/boxscores/201510300ATL.html                                 NaN  ...   \n",
       "/boxscores/201510300CLE.html                                 NaN  ...   \n",
       "/boxscores/201510300DET.html                                3.33  ...   \n",
       "/boxscores/201510310IND.html                                 NaN  ...   \n",
       "/boxscores/201510310LAC.html                                 NaN  ...   \n",
       "\n",
       "                              two_point_shots_y_Z. La_MIN  \\\n",
       "url                                                         \n",
       "/boxscores/201510300ATL.html                          NaN   \n",
       "/boxscores/201510300CLE.html                          NaN   \n",
       "/boxscores/201510300DET.html                          NaN   \n",
       "/boxscores/201510310IND.html                          NaN   \n",
       "/boxscores/201510310LAC.html                          NaN   \n",
       "\n",
       "                              two_point_shots_y_Z. Norvell_GSW  \\\n",
       "url                                                              \n",
       "/boxscores/201510300ATL.html                               NaN   \n",
       "/boxscores/201510300CLE.html                               NaN   \n",
       "/boxscores/201510300DET.html                               NaN   \n",
       "/boxscores/201510310IND.html                               NaN   \n",
       "/boxscores/201510310LAC.html                               NaN   \n",
       "\n",
       "                              two_point_shots_y_Z. Pachulia_DAL  \\\n",
       "url                                                               \n",
       "/boxscores/201510300ATL.html                                NaN   \n",
       "/boxscores/201510300CLE.html                                NaN   \n",
       "/boxscores/201510300DET.html                                NaN   \n",
       "/boxscores/201510310IND.html                                NaN   \n",
       "/boxscores/201510310LAC.html                                NaN   \n",
       "\n",
       "                              two_point_shots_y_Z. Pachulia_DET  \\\n",
       "url                                                               \n",
       "/boxscores/201510300ATL.html                                NaN   \n",
       "/boxscores/201510300CLE.html                                NaN   \n",
       "/boxscores/201510300DET.html                                NaN   \n",
       "/boxscores/201510310IND.html                                NaN   \n",
       "/boxscores/201510310LAC.html                                NaN   \n",
       "\n",
       "                              two_point_shots_y_Z. Pachulia_GSW  \\\n",
       "url                                                               \n",
       "/boxscores/201510300ATL.html                                NaN   \n",
       "/boxscores/201510300CLE.html                                NaN   \n",
       "/boxscores/201510300DET.html                                NaN   \n",
       "/boxscores/201510310IND.html                                NaN   \n",
       "/boxscores/201510310LAC.html                                NaN   \n",
       "\n",
       "                              two_point_shots_y_Z. Qi_HOU  \\\n",
       "url                                                         \n",
       "/boxscores/201510300ATL.html                          NaN   \n",
       "/boxscores/201510300CLE.html                          NaN   \n",
       "/boxscores/201510300DET.html                          NaN   \n",
       "/boxscores/201510310IND.html                          NaN   \n",
       "/boxscores/201510310LAC.html                          NaN   \n",
       "\n",
       "                              two_point_shots_y_Z. Randolph_MEM  \\\n",
       "url                                                               \n",
       "/boxscores/201510300ATL.html                                NaN   \n",
       "/boxscores/201510300CLE.html                                NaN   \n",
       "/boxscores/201510300DET.html                                NaN   \n",
       "/boxscores/201510310IND.html                                NaN   \n",
       "/boxscores/201510310LAC.html                                NaN   \n",
       "\n",
       "                              two_point_shots_y_Z. Randolph_SAC  \\\n",
       "url                                                               \n",
       "/boxscores/201510300ATL.html                                NaN   \n",
       "/boxscores/201510300CLE.html                                NaN   \n",
       "/boxscores/201510300DET.html                                NaN   \n",
       "/boxscores/201510310IND.html                                NaN   \n",
       "/boxscores/201510310LAC.html                                NaN   \n",
       "\n",
       "                              two_point_shots_y_Z. Smith_PHI  \\\n",
       "url                                                            \n",
       "/boxscores/201510300ATL.html                             NaN   \n",
       "/boxscores/201510300CLE.html                             NaN   \n",
       "/boxscores/201510300DET.html                             NaN   \n",
       "/boxscores/201510310IND.html                             NaN   \n",
       "/boxscores/201510310LAC.html                             NaN   \n",
       "\n",
       "                              two_point_shots_y_Z. Williamson_NOP  \n",
       "url                                                                \n",
       "/boxscores/201510300ATL.html                                  NaN  \n",
       "/boxscores/201510300CLE.html                                  NaN  \n",
       "/boxscores/201510300DET.html                                  NaN  \n",
       "/boxscores/201510310IND.html                                  NaN  \n",
       "/boxscores/201510310LAC.html                                  NaN  \n",
       "\n",
       "[5 rows x 15377 columns]"
      ]
     },
     "execution_count": 14,
     "metadata": {},
     "output_type": "execute_result"
    }
   ],
   "source": [
    "df_final.head()"
   ]
  },
  {
   "cell_type": "code",
   "execution_count": 7,
   "metadata": {},
   "outputs": [],
   "source": []
  },
  {
   "cell_type": "code",
   "execution_count": 9,
   "metadata": {},
   "outputs": [],
   "source": []
  },
  {
   "cell_type": "code",
   "execution_count": 11,
   "metadata": {},
   "outputs": [],
   "source": []
  },
  {
   "cell_type": "code",
   "execution_count": null,
   "metadata": {},
   "outputs": [],
   "source": [
    "pd.pivot_table(df_merged, index='url', \n",
    "               \n",
    "               \n",
    "               \n",
    "               columns=['player_team'], aggfunc=np.mean)"
   ]
  },
  {
   "cell_type": "code",
   "execution_count": null,
   "metadata": {
    "scrolled": true
   },
   "outputs": [],
   "source": [
    "df_merged.head()"
   ]
  },
  {
   "cell_type": "code",
   "execution_count": null,
   "metadata": {
    "scrolled": true
   },
   "outputs": [],
   "source": [
    "df_merged.info()"
   ]
  },
  {
   "cell_type": "code",
   "execution_count": null,
   "metadata": {},
   "outputs": [],
   "source": [
    "df_merged = df_merged[~df_merged['two_point_shots_made_y'].isnull()]"
   ]
  },
  {
   "cell_type": "code",
   "execution_count": null,
   "metadata": {},
   "outputs": [],
   "source": []
  },
  {
   "cell_type": "code",
   "execution_count": null,
   "metadata": {},
   "outputs": [],
   "source": []
  },
  {
   "cell_type": "code",
   "execution_count": null,
   "metadata": {},
   "outputs": [],
   "source": [
    "df_merged.to_csv('output.csv')"
   ]
  },
  {
   "cell_type": "code",
   "execution_count": null,
   "metadata": {},
   "outputs": [],
   "source": []
  },
  {
   "cell_type": "code",
   "execution_count": null,
   "metadata": {},
   "outputs": [],
   "source": []
  },
  {
   "cell_type": "code",
   "execution_count": null,
   "metadata": {},
   "outputs": [],
   "source": [
    "df.sort_index().to_csv('output.csv')"
   ]
  },
  {
   "cell_type": "code",
   "execution_count": null,
   "metadata": {},
   "outputs": [],
   "source": [
    "df_list[0].shape"
   ]
  },
  {
   "cell_type": "code",
   "execution_count": null,
   "metadata": {
    "scrolled": true
   },
   "outputs": [],
   "source": [
    "player_names[0:5]"
   ]
  },
  {
   "cell_type": "code",
   "execution_count": null,
   "metadata": {},
   "outputs": [],
   "source": [
    "player_names = player_names[~pd.isnull(player_names)] #remove empty player names"
   ]
  },
  {
   "cell_type": "code",
   "execution_count": null,
   "metadata": {},
   "outputs": [],
   "source": [
    "df"
   ]
  },
  {
   "cell_type": "code",
   "execution_count": null,
   "metadata": {},
   "outputs": [],
   "source": [
    "for element in df_list:\n",
    "    print(element.shape)"
   ]
  },
  {
   "cell_type": "code",
   "execution_count": null,
   "metadata": {},
   "outputs": [],
   "source": []
  },
  {
   "cell_type": "code",
   "execution_count": null,
   "metadata": {},
   "outputs": [],
   "source": []
  },
  {
   "cell_type": "code",
   "execution_count": null,
   "metadata": {},
   "outputs": [],
   "source": [
    "df_games_grouped = pd.pivot_table(df_games, values=['two_point_shots_made', 'two_point_shots'], \n",
    "                                   columns=['player_team'],\n",
    "                                   index='url',\n",
    "                                  aggfunc=np.mean\n",
    "                                  ).rolling(3).mean()"
   ]
  },
  {
   "cell_type": "code",
   "execution_count": null,
   "metadata": {},
   "outputs": [],
   "source": []
  }
 ],
 "metadata": {
  "kernelspec": {
   "display_name": "springboard_final2",
   "language": "python",
   "name": "springboard_final2"
  },
  "language_info": {
   "codemirror_mode": {
    "name": "ipython",
    "version": 3
   },
   "file_extension": ".py",
   "mimetype": "text/x-python",
   "name": "python",
   "nbconvert_exporter": "python",
   "pygments_lexer": "ipython3",
   "version": "3.8.0"
  }
 },
 "nbformat": 4,
 "nbformat_minor": 4
}
