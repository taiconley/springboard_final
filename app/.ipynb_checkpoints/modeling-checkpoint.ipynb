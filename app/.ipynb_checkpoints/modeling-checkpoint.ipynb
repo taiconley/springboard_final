{
 "cells": [
  {
   "cell_type": "code",
   "execution_count": 102,
   "id": "a79d05c1",
   "metadata": {},
   "outputs": [],
   "source": [
    "from databaseClass import DB\n",
    "import utils\n",
    "import sql_files\n",
    "\n",
    "import pandas as pd\n",
    "import numpy as np\n",
    "import matplotlib.pyplot as plt\n",
    "import seaborn as sns\n",
    "import pickle\n",
    "\n",
    "from sklearn.decomposition import PCA\n",
    "from sklearn.preprocessing import StandardScaler\n",
    "from sklearn.model_selection import train_test_split\n",
    "from sklearn.metrics import mean_squared_error as MSE\n",
    "from sklearn.metrics import r2_score\n",
    "\n",
    "import xgboost as xgb\n",
    "import autosklearn.regression\n",
    "import tensorflow as tf\n",
    "import autokeras as ak\n",
    "\n",
    "from tensorflow import keras\n",
    "from tensorflow.keras import layers"
   ]
  },
  {
   "cell_type": "code",
   "execution_count": 2,
   "id": "a8d7a39a",
   "metadata": {},
   "outputs": [],
   "source": [
    "userName = utils.userName\n",
    "userPass = utils.userPass\n",
    "dbName = utils.dbName"
   ]
  },
  {
   "cell_type": "code",
   "execution_count": 3,
   "id": "5410dbe0",
   "metadata": {},
   "outputs": [],
   "source": [
    "db = DB(userName = userName, userPass = userPass, dataBaseName = dbName)"
   ]
  },
  {
   "cell_type": "code",
   "execution_count": 79,
   "id": "ed932300",
   "metadata": {},
   "outputs": [
    {
     "data": {
      "text/html": [
       "<div>\n",
       "<style scoped>\n",
       "    .dataframe tbody tr th:only-of-type {\n",
       "        vertical-align: middle;\n",
       "    }\n",
       "\n",
       "    .dataframe tbody tr th {\n",
       "        vertical-align: top;\n",
       "    }\n",
       "\n",
       "    .dataframe thead th {\n",
       "        text-align: right;\n",
       "    }\n",
       "</style>\n",
       "<table border=\"1\" class=\"dataframe\">\n",
       "  <thead>\n",
       "    <tr style=\"text-align: right;\">\n",
       "      <th></th>\n",
       "      <th>defensive_rebounds_y_A. Afflalo_NYK</th>\n",
       "      <th>defensive_rebounds_y_A. Afflalo_ORL</th>\n",
       "      <th>defensive_rebounds_y_A. Afflalo_SAC</th>\n",
       "      <th>defensive_rebounds_y_A. Aminu_ORL</th>\n",
       "      <th>defensive_rebounds_y_A. Aminu_POR</th>\n",
       "      <th>defensive_rebounds_y_A. Anderson_LAC</th>\n",
       "      <th>defensive_rebounds_y_A. Anderson_WAS</th>\n",
       "      <th>defensive_rebounds_y_A. Bargnani_BRK</th>\n",
       "      <th>defensive_rebounds_y_A. Baynes_BOS</th>\n",
       "      <th>defensive_rebounds_y_A. Baynes_DET</th>\n",
       "      <th>...</th>\n",
       "      <th>two_point_shots_y_Z. La_MIN</th>\n",
       "      <th>two_point_shots_y_Z. Norvell_GSW</th>\n",
       "      <th>two_point_shots_y_Z. Pachulia_DAL</th>\n",
       "      <th>two_point_shots_y_Z. Pachulia_DET</th>\n",
       "      <th>two_point_shots_y_Z. Pachulia_GSW</th>\n",
       "      <th>two_point_shots_y_Z. Qi_HOU</th>\n",
       "      <th>two_point_shots_y_Z. Randolph_MEM</th>\n",
       "      <th>two_point_shots_y_Z. Randolph_SAC</th>\n",
       "      <th>two_point_shots_y_Z. Smith_PHI</th>\n",
       "      <th>two_point_shots_y_Z. Williamson_NOP</th>\n",
       "    </tr>\n",
       "    <tr>\n",
       "      <th>url</th>\n",
       "      <th></th>\n",
       "      <th></th>\n",
       "      <th></th>\n",
       "      <th></th>\n",
       "      <th></th>\n",
       "      <th></th>\n",
       "      <th></th>\n",
       "      <th></th>\n",
       "      <th></th>\n",
       "      <th></th>\n",
       "      <th></th>\n",
       "      <th></th>\n",
       "      <th></th>\n",
       "      <th></th>\n",
       "      <th></th>\n",
       "      <th></th>\n",
       "      <th></th>\n",
       "      <th></th>\n",
       "      <th></th>\n",
       "      <th></th>\n",
       "      <th></th>\n",
       "    </tr>\n",
       "  </thead>\n",
       "  <tbody>\n",
       "    <tr>\n",
       "      <th>/boxscores/201510300ATL.html</th>\n",
       "      <td>0.0</td>\n",
       "      <td>0.0</td>\n",
       "      <td>0.0</td>\n",
       "      <td>0.0</td>\n",
       "      <td>0.0</td>\n",
       "      <td>0.0</td>\n",
       "      <td>0.0</td>\n",
       "      <td>0.0</td>\n",
       "      <td>0.0</td>\n",
       "      <td>0.00</td>\n",
       "      <td>...</td>\n",
       "      <td>0.0</td>\n",
       "      <td>0.0</td>\n",
       "      <td>0.0</td>\n",
       "      <td>0.0</td>\n",
       "      <td>0.0</td>\n",
       "      <td>0.0</td>\n",
       "      <td>0.0</td>\n",
       "      <td>0.0</td>\n",
       "      <td>0.0</td>\n",
       "      <td>0.0</td>\n",
       "    </tr>\n",
       "    <tr>\n",
       "      <th>/boxscores/201510300CLE.html</th>\n",
       "      <td>0.0</td>\n",
       "      <td>0.0</td>\n",
       "      <td>0.0</td>\n",
       "      <td>0.0</td>\n",
       "      <td>0.0</td>\n",
       "      <td>0.0</td>\n",
       "      <td>0.0</td>\n",
       "      <td>0.0</td>\n",
       "      <td>0.0</td>\n",
       "      <td>0.00</td>\n",
       "      <td>...</td>\n",
       "      <td>0.0</td>\n",
       "      <td>0.0</td>\n",
       "      <td>0.0</td>\n",
       "      <td>0.0</td>\n",
       "      <td>0.0</td>\n",
       "      <td>0.0</td>\n",
       "      <td>0.0</td>\n",
       "      <td>0.0</td>\n",
       "      <td>0.0</td>\n",
       "      <td>0.0</td>\n",
       "    </tr>\n",
       "    <tr>\n",
       "      <th>/boxscores/201510300DET.html</th>\n",
       "      <td>0.0</td>\n",
       "      <td>0.0</td>\n",
       "      <td>0.0</td>\n",
       "      <td>0.0</td>\n",
       "      <td>0.0</td>\n",
       "      <td>0.0</td>\n",
       "      <td>0.0</td>\n",
       "      <td>0.0</td>\n",
       "      <td>0.0</td>\n",
       "      <td>3.33</td>\n",
       "      <td>...</td>\n",
       "      <td>0.0</td>\n",
       "      <td>0.0</td>\n",
       "      <td>0.0</td>\n",
       "      <td>0.0</td>\n",
       "      <td>0.0</td>\n",
       "      <td>0.0</td>\n",
       "      <td>0.0</td>\n",
       "      <td>0.0</td>\n",
       "      <td>0.0</td>\n",
       "      <td>0.0</td>\n",
       "    </tr>\n",
       "    <tr>\n",
       "      <th>/boxscores/201510310IND.html</th>\n",
       "      <td>0.0</td>\n",
       "      <td>0.0</td>\n",
       "      <td>0.0</td>\n",
       "      <td>0.0</td>\n",
       "      <td>0.0</td>\n",
       "      <td>0.0</td>\n",
       "      <td>0.0</td>\n",
       "      <td>0.0</td>\n",
       "      <td>0.0</td>\n",
       "      <td>0.00</td>\n",
       "      <td>...</td>\n",
       "      <td>0.0</td>\n",
       "      <td>0.0</td>\n",
       "      <td>0.0</td>\n",
       "      <td>0.0</td>\n",
       "      <td>0.0</td>\n",
       "      <td>0.0</td>\n",
       "      <td>0.0</td>\n",
       "      <td>0.0</td>\n",
       "      <td>0.0</td>\n",
       "      <td>0.0</td>\n",
       "    </tr>\n",
       "    <tr>\n",
       "      <th>/boxscores/201510310LAC.html</th>\n",
       "      <td>0.0</td>\n",
       "      <td>0.0</td>\n",
       "      <td>0.0</td>\n",
       "      <td>0.0</td>\n",
       "      <td>0.0</td>\n",
       "      <td>0.0</td>\n",
       "      <td>0.0</td>\n",
       "      <td>0.0</td>\n",
       "      <td>0.0</td>\n",
       "      <td>0.00</td>\n",
       "      <td>...</td>\n",
       "      <td>0.0</td>\n",
       "      <td>0.0</td>\n",
       "      <td>0.0</td>\n",
       "      <td>0.0</td>\n",
       "      <td>0.0</td>\n",
       "      <td>0.0</td>\n",
       "      <td>0.0</td>\n",
       "      <td>0.0</td>\n",
       "      <td>0.0</td>\n",
       "      <td>0.0</td>\n",
       "    </tr>\n",
       "  </tbody>\n",
       "</table>\n",
       "<p>5 rows × 13638 columns</p>\n",
       "</div>"
      ],
      "text/plain": [
       "                              defensive_rebounds_y_A. Afflalo_NYK  \\\n",
       "url                                                                 \n",
       "/boxscores/201510300ATL.html                                  0.0   \n",
       "/boxscores/201510300CLE.html                                  0.0   \n",
       "/boxscores/201510300DET.html                                  0.0   \n",
       "/boxscores/201510310IND.html                                  0.0   \n",
       "/boxscores/201510310LAC.html                                  0.0   \n",
       "\n",
       "                              defensive_rebounds_y_A. Afflalo_ORL  \\\n",
       "url                                                                 \n",
       "/boxscores/201510300ATL.html                                  0.0   \n",
       "/boxscores/201510300CLE.html                                  0.0   \n",
       "/boxscores/201510300DET.html                                  0.0   \n",
       "/boxscores/201510310IND.html                                  0.0   \n",
       "/boxscores/201510310LAC.html                                  0.0   \n",
       "\n",
       "                              defensive_rebounds_y_A. Afflalo_SAC  \\\n",
       "url                                                                 \n",
       "/boxscores/201510300ATL.html                                  0.0   \n",
       "/boxscores/201510300CLE.html                                  0.0   \n",
       "/boxscores/201510300DET.html                                  0.0   \n",
       "/boxscores/201510310IND.html                                  0.0   \n",
       "/boxscores/201510310LAC.html                                  0.0   \n",
       "\n",
       "                              defensive_rebounds_y_A. Aminu_ORL  \\\n",
       "url                                                               \n",
       "/boxscores/201510300ATL.html                                0.0   \n",
       "/boxscores/201510300CLE.html                                0.0   \n",
       "/boxscores/201510300DET.html                                0.0   \n",
       "/boxscores/201510310IND.html                                0.0   \n",
       "/boxscores/201510310LAC.html                                0.0   \n",
       "\n",
       "                              defensive_rebounds_y_A. Aminu_POR  \\\n",
       "url                                                               \n",
       "/boxscores/201510300ATL.html                                0.0   \n",
       "/boxscores/201510300CLE.html                                0.0   \n",
       "/boxscores/201510300DET.html                                0.0   \n",
       "/boxscores/201510310IND.html                                0.0   \n",
       "/boxscores/201510310LAC.html                                0.0   \n",
       "\n",
       "                              defensive_rebounds_y_A. Anderson_LAC  \\\n",
       "url                                                                  \n",
       "/boxscores/201510300ATL.html                                   0.0   \n",
       "/boxscores/201510300CLE.html                                   0.0   \n",
       "/boxscores/201510300DET.html                                   0.0   \n",
       "/boxscores/201510310IND.html                                   0.0   \n",
       "/boxscores/201510310LAC.html                                   0.0   \n",
       "\n",
       "                              defensive_rebounds_y_A. Anderson_WAS  \\\n",
       "url                                                                  \n",
       "/boxscores/201510300ATL.html                                   0.0   \n",
       "/boxscores/201510300CLE.html                                   0.0   \n",
       "/boxscores/201510300DET.html                                   0.0   \n",
       "/boxscores/201510310IND.html                                   0.0   \n",
       "/boxscores/201510310LAC.html                                   0.0   \n",
       "\n",
       "                              defensive_rebounds_y_A. Bargnani_BRK  \\\n",
       "url                                                                  \n",
       "/boxscores/201510300ATL.html                                   0.0   \n",
       "/boxscores/201510300CLE.html                                   0.0   \n",
       "/boxscores/201510300DET.html                                   0.0   \n",
       "/boxscores/201510310IND.html                                   0.0   \n",
       "/boxscores/201510310LAC.html                                   0.0   \n",
       "\n",
       "                              defensive_rebounds_y_A. Baynes_BOS  \\\n",
       "url                                                                \n",
       "/boxscores/201510300ATL.html                                 0.0   \n",
       "/boxscores/201510300CLE.html                                 0.0   \n",
       "/boxscores/201510300DET.html                                 0.0   \n",
       "/boxscores/201510310IND.html                                 0.0   \n",
       "/boxscores/201510310LAC.html                                 0.0   \n",
       "\n",
       "                              defensive_rebounds_y_A. Baynes_DET  ...  \\\n",
       "url                                                               ...   \n",
       "/boxscores/201510300ATL.html                                0.00  ...   \n",
       "/boxscores/201510300CLE.html                                0.00  ...   \n",
       "/boxscores/201510300DET.html                                3.33  ...   \n",
       "/boxscores/201510310IND.html                                0.00  ...   \n",
       "/boxscores/201510310LAC.html                                0.00  ...   \n",
       "\n",
       "                              two_point_shots_y_Z. La_MIN  \\\n",
       "url                                                         \n",
       "/boxscores/201510300ATL.html                          0.0   \n",
       "/boxscores/201510300CLE.html                          0.0   \n",
       "/boxscores/201510300DET.html                          0.0   \n",
       "/boxscores/201510310IND.html                          0.0   \n",
       "/boxscores/201510310LAC.html                          0.0   \n",
       "\n",
       "                              two_point_shots_y_Z. Norvell_GSW  \\\n",
       "url                                                              \n",
       "/boxscores/201510300ATL.html                               0.0   \n",
       "/boxscores/201510300CLE.html                               0.0   \n",
       "/boxscores/201510300DET.html                               0.0   \n",
       "/boxscores/201510310IND.html                               0.0   \n",
       "/boxscores/201510310LAC.html                               0.0   \n",
       "\n",
       "                              two_point_shots_y_Z. Pachulia_DAL  \\\n",
       "url                                                               \n",
       "/boxscores/201510300ATL.html                                0.0   \n",
       "/boxscores/201510300CLE.html                                0.0   \n",
       "/boxscores/201510300DET.html                                0.0   \n",
       "/boxscores/201510310IND.html                                0.0   \n",
       "/boxscores/201510310LAC.html                                0.0   \n",
       "\n",
       "                              two_point_shots_y_Z. Pachulia_DET  \\\n",
       "url                                                               \n",
       "/boxscores/201510300ATL.html                                0.0   \n",
       "/boxscores/201510300CLE.html                                0.0   \n",
       "/boxscores/201510300DET.html                                0.0   \n",
       "/boxscores/201510310IND.html                                0.0   \n",
       "/boxscores/201510310LAC.html                                0.0   \n",
       "\n",
       "                              two_point_shots_y_Z. Pachulia_GSW  \\\n",
       "url                                                               \n",
       "/boxscores/201510300ATL.html                                0.0   \n",
       "/boxscores/201510300CLE.html                                0.0   \n",
       "/boxscores/201510300DET.html                                0.0   \n",
       "/boxscores/201510310IND.html                                0.0   \n",
       "/boxscores/201510310LAC.html                                0.0   \n",
       "\n",
       "                              two_point_shots_y_Z. Qi_HOU  \\\n",
       "url                                                         \n",
       "/boxscores/201510300ATL.html                          0.0   \n",
       "/boxscores/201510300CLE.html                          0.0   \n",
       "/boxscores/201510300DET.html                          0.0   \n",
       "/boxscores/201510310IND.html                          0.0   \n",
       "/boxscores/201510310LAC.html                          0.0   \n",
       "\n",
       "                              two_point_shots_y_Z. Randolph_MEM  \\\n",
       "url                                                               \n",
       "/boxscores/201510300ATL.html                                0.0   \n",
       "/boxscores/201510300CLE.html                                0.0   \n",
       "/boxscores/201510300DET.html                                0.0   \n",
       "/boxscores/201510310IND.html                                0.0   \n",
       "/boxscores/201510310LAC.html                                0.0   \n",
       "\n",
       "                              two_point_shots_y_Z. Randolph_SAC  \\\n",
       "url                                                               \n",
       "/boxscores/201510300ATL.html                                0.0   \n",
       "/boxscores/201510300CLE.html                                0.0   \n",
       "/boxscores/201510300DET.html                                0.0   \n",
       "/boxscores/201510310IND.html                                0.0   \n",
       "/boxscores/201510310LAC.html                                0.0   \n",
       "\n",
       "                              two_point_shots_y_Z. Smith_PHI  \\\n",
       "url                                                            \n",
       "/boxscores/201510300ATL.html                             0.0   \n",
       "/boxscores/201510300CLE.html                             0.0   \n",
       "/boxscores/201510300DET.html                             0.0   \n",
       "/boxscores/201510310IND.html                             0.0   \n",
       "/boxscores/201510310LAC.html                             0.0   \n",
       "\n",
       "                              two_point_shots_y_Z. Williamson_NOP  \n",
       "url                                                                \n",
       "/boxscores/201510300ATL.html                                  0.0  \n",
       "/boxscores/201510300CLE.html                                  0.0  \n",
       "/boxscores/201510300DET.html                                  0.0  \n",
       "/boxscores/201510310IND.html                                  0.0  \n",
       "/boxscores/201510310LAC.html                                  0.0  \n",
       "\n",
       "[5 rows x 13638 columns]"
      ]
     },
     "execution_count": 79,
     "metadata": {},
     "output_type": "execute_result"
    }
   ],
   "source": [
    "df_final.head()"
   ]
  },
  {
   "cell_type": "code",
   "execution_count": 81,
   "id": "98d37555",
   "metadata": {},
   "outputs": [
    {
     "data": {
      "text/html": [
       "<div>\n",
       "<style scoped>\n",
       "    .dataframe tbody tr th:only-of-type {\n",
       "        vertical-align: middle;\n",
       "    }\n",
       "\n",
       "    .dataframe tbody tr th {\n",
       "        vertical-align: top;\n",
       "    }\n",
       "\n",
       "    .dataframe thead th {\n",
       "        text-align: right;\n",
       "    }\n",
       "</style>\n",
       "<table border=\"1\" class=\"dataframe\">\n",
       "  <thead>\n",
       "    <tr style=\"text-align: right;\">\n",
       "      <th></th>\n",
       "      <th>defensive_rebounds_y_A. Afflalo_NYK</th>\n",
       "      <th>defensive_rebounds_y_A. Afflalo_ORL</th>\n",
       "      <th>defensive_rebounds_y_A. Afflalo_SAC</th>\n",
       "      <th>defensive_rebounds_y_A. Aminu_ORL</th>\n",
       "      <th>defensive_rebounds_y_A. Aminu_POR</th>\n",
       "      <th>defensive_rebounds_y_A. Anderson_LAC</th>\n",
       "      <th>defensive_rebounds_y_A. Anderson_WAS</th>\n",
       "      <th>defensive_rebounds_y_A. Bargnani_BRK</th>\n",
       "      <th>defensive_rebounds_y_A. Baynes_BOS</th>\n",
       "      <th>defensive_rebounds_y_A. Baynes_DET</th>\n",
       "      <th>...</th>\n",
       "      <th>two_point_shots_y_Z. La_MIN</th>\n",
       "      <th>two_point_shots_y_Z. Norvell_GSW</th>\n",
       "      <th>two_point_shots_y_Z. Pachulia_DAL</th>\n",
       "      <th>two_point_shots_y_Z. Pachulia_DET</th>\n",
       "      <th>two_point_shots_y_Z. Pachulia_GSW</th>\n",
       "      <th>two_point_shots_y_Z. Qi_HOU</th>\n",
       "      <th>two_point_shots_y_Z. Randolph_MEM</th>\n",
       "      <th>two_point_shots_y_Z. Randolph_SAC</th>\n",
       "      <th>two_point_shots_y_Z. Smith_PHI</th>\n",
       "      <th>two_point_shots_y_Z. Williamson_NOP</th>\n",
       "    </tr>\n",
       "  </thead>\n",
       "  <tbody>\n",
       "    <tr>\n",
       "      <th>count</th>\n",
       "      <td>6571.000000</td>\n",
       "      <td>6571.000000</td>\n",
       "      <td>6571.000000</td>\n",
       "      <td>6571.000000</td>\n",
       "      <td>6571.000000</td>\n",
       "      <td>6571.000000</td>\n",
       "      <td>6571.000000</td>\n",
       "      <td>6571.000000</td>\n",
       "      <td>6571.000000</td>\n",
       "      <td>6571.000000</td>\n",
       "      <td>...</td>\n",
       "      <td>6571.000000</td>\n",
       "      <td>6571.000000</td>\n",
       "      <td>6571.000000</td>\n",
       "      <td>6571.000000</td>\n",
       "      <td>6571.000000</td>\n",
       "      <td>6571.000000</td>\n",
       "      <td>6571.000000</td>\n",
       "      <td>6571.000000</td>\n",
       "      <td>6571.000000</td>\n",
       "      <td>6571.000000</td>\n",
       "    </tr>\n",
       "    <tr>\n",
       "      <th>mean</th>\n",
       "      <td>0.033834</td>\n",
       "      <td>0.003398</td>\n",
       "      <td>0.011819</td>\n",
       "      <td>0.007457</td>\n",
       "      <td>0.284471</td>\n",
       "      <td>0.000861</td>\n",
       "      <td>0.002637</td>\n",
       "      <td>0.006797</td>\n",
       "      <td>0.081557</td>\n",
       "      <td>0.061586</td>\n",
       "      <td>...</td>\n",
       "      <td>0.156087</td>\n",
       "      <td>0.000152</td>\n",
       "      <td>0.072383</td>\n",
       "      <td>0.027901</td>\n",
       "      <td>0.095721</td>\n",
       "      <td>0.002132</td>\n",
       "      <td>0.283824</td>\n",
       "      <td>0.090998</td>\n",
       "      <td>0.003651</td>\n",
       "      <td>0.077866</td>\n",
       "    </tr>\n",
       "    <tr>\n",
       "      <th>std</th>\n",
       "      <td>0.362081</td>\n",
       "      <td>0.086282</td>\n",
       "      <td>0.166455</td>\n",
       "      <td>0.176385</td>\n",
       "      <td>1.304224</td>\n",
       "      <td>0.036496</td>\n",
       "      <td>0.075993</td>\n",
       "      <td>0.134958</td>\n",
       "      <td>0.570527</td>\n",
       "      <td>0.461661</td>\n",
       "      <td>...</td>\n",
       "      <td>1.154781</td>\n",
       "      <td>0.012336</td>\n",
       "      <td>0.693128</td>\n",
       "      <td>0.300806</td>\n",
       "      <td>0.654243</td>\n",
       "      <td>0.051681</td>\n",
       "      <td>1.896587</td>\n",
       "      <td>0.987050</td>\n",
       "      <td>0.113740</td>\n",
       "      <td>1.097532</td>\n",
       "    </tr>\n",
       "    <tr>\n",
       "      <th>min</th>\n",
       "      <td>0.000000</td>\n",
       "      <td>0.000000</td>\n",
       "      <td>0.000000</td>\n",
       "      <td>0.000000</td>\n",
       "      <td>0.000000</td>\n",
       "      <td>0.000000</td>\n",
       "      <td>0.000000</td>\n",
       "      <td>0.000000</td>\n",
       "      <td>0.000000</td>\n",
       "      <td>0.000000</td>\n",
       "      <td>...</td>\n",
       "      <td>0.000000</td>\n",
       "      <td>0.000000</td>\n",
       "      <td>0.000000</td>\n",
       "      <td>0.000000</td>\n",
       "      <td>0.000000</td>\n",
       "      <td>0.000000</td>\n",
       "      <td>0.000000</td>\n",
       "      <td>0.000000</td>\n",
       "      <td>0.000000</td>\n",
       "      <td>0.000000</td>\n",
       "    </tr>\n",
       "    <tr>\n",
       "      <th>25%</th>\n",
       "      <td>0.000000</td>\n",
       "      <td>0.000000</td>\n",
       "      <td>0.000000</td>\n",
       "      <td>0.000000</td>\n",
       "      <td>0.000000</td>\n",
       "      <td>0.000000</td>\n",
       "      <td>0.000000</td>\n",
       "      <td>0.000000</td>\n",
       "      <td>0.000000</td>\n",
       "      <td>0.000000</td>\n",
       "      <td>...</td>\n",
       "      <td>0.000000</td>\n",
       "      <td>0.000000</td>\n",
       "      <td>0.000000</td>\n",
       "      <td>0.000000</td>\n",
       "      <td>0.000000</td>\n",
       "      <td>0.000000</td>\n",
       "      <td>0.000000</td>\n",
       "      <td>0.000000</td>\n",
       "      <td>0.000000</td>\n",
       "      <td>0.000000</td>\n",
       "    </tr>\n",
       "    <tr>\n",
       "      <th>50%</th>\n",
       "      <td>0.000000</td>\n",
       "      <td>0.000000</td>\n",
       "      <td>0.000000</td>\n",
       "      <td>0.000000</td>\n",
       "      <td>0.000000</td>\n",
       "      <td>0.000000</td>\n",
       "      <td>0.000000</td>\n",
       "      <td>0.000000</td>\n",
       "      <td>0.000000</td>\n",
       "      <td>0.000000</td>\n",
       "      <td>...</td>\n",
       "      <td>0.000000</td>\n",
       "      <td>0.000000</td>\n",
       "      <td>0.000000</td>\n",
       "      <td>0.000000</td>\n",
       "      <td>0.000000</td>\n",
       "      <td>0.000000</td>\n",
       "      <td>0.000000</td>\n",
       "      <td>0.000000</td>\n",
       "      <td>0.000000</td>\n",
       "      <td>0.000000</td>\n",
       "    </tr>\n",
       "    <tr>\n",
       "      <th>75%</th>\n",
       "      <td>0.000000</td>\n",
       "      <td>0.000000</td>\n",
       "      <td>0.000000</td>\n",
       "      <td>0.000000</td>\n",
       "      <td>0.000000</td>\n",
       "      <td>0.000000</td>\n",
       "      <td>0.000000</td>\n",
       "      <td>0.000000</td>\n",
       "      <td>0.000000</td>\n",
       "      <td>0.000000</td>\n",
       "      <td>...</td>\n",
       "      <td>0.000000</td>\n",
       "      <td>0.000000</td>\n",
       "      <td>0.000000</td>\n",
       "      <td>0.000000</td>\n",
       "      <td>0.000000</td>\n",
       "      <td>0.000000</td>\n",
       "      <td>0.000000</td>\n",
       "      <td>0.000000</td>\n",
       "      <td>0.000000</td>\n",
       "      <td>0.000000</td>\n",
       "    </tr>\n",
       "    <tr>\n",
       "      <th>max</th>\n",
       "      <td>7.330000</td>\n",
       "      <td>3.000000</td>\n",
       "      <td>4.330000</td>\n",
       "      <td>6.330000</td>\n",
       "      <td>10.670000</td>\n",
       "      <td>2.330000</td>\n",
       "      <td>2.670000</td>\n",
       "      <td>3.670000</td>\n",
       "      <td>7.670000</td>\n",
       "      <td>7.330000</td>\n",
       "      <td>...</td>\n",
       "      <td>15.000000</td>\n",
       "      <td>1.000000</td>\n",
       "      <td>11.000000</td>\n",
       "      <td>5.330000</td>\n",
       "      <td>7.670000</td>\n",
       "      <td>1.670000</td>\n",
       "      <td>18.330000</td>\n",
       "      <td>15.000000</td>\n",
       "      <td>5.330000</td>\n",
       "      <td>19.330000</td>\n",
       "    </tr>\n",
       "  </tbody>\n",
       "</table>\n",
       "<p>8 rows × 13638 columns</p>\n",
       "</div>"
      ],
      "text/plain": [
       "       defensive_rebounds_y_A. Afflalo_NYK  \\\n",
       "count                          6571.000000   \n",
       "mean                              0.033834   \n",
       "std                               0.362081   \n",
       "min                               0.000000   \n",
       "25%                               0.000000   \n",
       "50%                               0.000000   \n",
       "75%                               0.000000   \n",
       "max                               7.330000   \n",
       "\n",
       "       defensive_rebounds_y_A. Afflalo_ORL  \\\n",
       "count                          6571.000000   \n",
       "mean                              0.003398   \n",
       "std                               0.086282   \n",
       "min                               0.000000   \n",
       "25%                               0.000000   \n",
       "50%                               0.000000   \n",
       "75%                               0.000000   \n",
       "max                               3.000000   \n",
       "\n",
       "       defensive_rebounds_y_A. Afflalo_SAC  defensive_rebounds_y_A. Aminu_ORL  \\\n",
       "count                          6571.000000                        6571.000000   \n",
       "mean                              0.011819                           0.007457   \n",
       "std                               0.166455                           0.176385   \n",
       "min                               0.000000                           0.000000   \n",
       "25%                               0.000000                           0.000000   \n",
       "50%                               0.000000                           0.000000   \n",
       "75%                               0.000000                           0.000000   \n",
       "max                               4.330000                           6.330000   \n",
       "\n",
       "       defensive_rebounds_y_A. Aminu_POR  \\\n",
       "count                        6571.000000   \n",
       "mean                            0.284471   \n",
       "std                             1.304224   \n",
       "min                             0.000000   \n",
       "25%                             0.000000   \n",
       "50%                             0.000000   \n",
       "75%                             0.000000   \n",
       "max                            10.670000   \n",
       "\n",
       "       defensive_rebounds_y_A. Anderson_LAC  \\\n",
       "count                           6571.000000   \n",
       "mean                               0.000861   \n",
       "std                                0.036496   \n",
       "min                                0.000000   \n",
       "25%                                0.000000   \n",
       "50%                                0.000000   \n",
       "75%                                0.000000   \n",
       "max                                2.330000   \n",
       "\n",
       "       defensive_rebounds_y_A. Anderson_WAS  \\\n",
       "count                           6571.000000   \n",
       "mean                               0.002637   \n",
       "std                                0.075993   \n",
       "min                                0.000000   \n",
       "25%                                0.000000   \n",
       "50%                                0.000000   \n",
       "75%                                0.000000   \n",
       "max                                2.670000   \n",
       "\n",
       "       defensive_rebounds_y_A. Bargnani_BRK  \\\n",
       "count                           6571.000000   \n",
       "mean                               0.006797   \n",
       "std                                0.134958   \n",
       "min                                0.000000   \n",
       "25%                                0.000000   \n",
       "50%                                0.000000   \n",
       "75%                                0.000000   \n",
       "max                                3.670000   \n",
       "\n",
       "       defensive_rebounds_y_A. Baynes_BOS  defensive_rebounds_y_A. Baynes_DET  \\\n",
       "count                         6571.000000                         6571.000000   \n",
       "mean                             0.081557                            0.061586   \n",
       "std                              0.570527                            0.461661   \n",
       "min                              0.000000                            0.000000   \n",
       "25%                              0.000000                            0.000000   \n",
       "50%                              0.000000                            0.000000   \n",
       "75%                              0.000000                            0.000000   \n",
       "max                              7.670000                            7.330000   \n",
       "\n",
       "       ...  two_point_shots_y_Z. La_MIN  two_point_shots_y_Z. Norvell_GSW  \\\n",
       "count  ...                  6571.000000                       6571.000000   \n",
       "mean   ...                     0.156087                          0.000152   \n",
       "std    ...                     1.154781                          0.012336   \n",
       "min    ...                     0.000000                          0.000000   \n",
       "25%    ...                     0.000000                          0.000000   \n",
       "50%    ...                     0.000000                          0.000000   \n",
       "75%    ...                     0.000000                          0.000000   \n",
       "max    ...                    15.000000                          1.000000   \n",
       "\n",
       "       two_point_shots_y_Z. Pachulia_DAL  two_point_shots_y_Z. Pachulia_DET  \\\n",
       "count                        6571.000000                        6571.000000   \n",
       "mean                            0.072383                           0.027901   \n",
       "std                             0.693128                           0.300806   \n",
       "min                             0.000000                           0.000000   \n",
       "25%                             0.000000                           0.000000   \n",
       "50%                             0.000000                           0.000000   \n",
       "75%                             0.000000                           0.000000   \n",
       "max                            11.000000                           5.330000   \n",
       "\n",
       "       two_point_shots_y_Z. Pachulia_GSW  two_point_shots_y_Z. Qi_HOU  \\\n",
       "count                        6571.000000                  6571.000000   \n",
       "mean                            0.095721                     0.002132   \n",
       "std                             0.654243                     0.051681   \n",
       "min                             0.000000                     0.000000   \n",
       "25%                             0.000000                     0.000000   \n",
       "50%                             0.000000                     0.000000   \n",
       "75%                             0.000000                     0.000000   \n",
       "max                             7.670000                     1.670000   \n",
       "\n",
       "       two_point_shots_y_Z. Randolph_MEM  two_point_shots_y_Z. Randolph_SAC  \\\n",
       "count                        6571.000000                        6571.000000   \n",
       "mean                            0.283824                           0.090998   \n",
       "std                             1.896587                           0.987050   \n",
       "min                             0.000000                           0.000000   \n",
       "25%                             0.000000                           0.000000   \n",
       "50%                             0.000000                           0.000000   \n",
       "75%                             0.000000                           0.000000   \n",
       "max                            18.330000                          15.000000   \n",
       "\n",
       "       two_point_shots_y_Z. Smith_PHI  two_point_shots_y_Z. Williamson_NOP  \n",
       "count                     6571.000000                          6571.000000  \n",
       "mean                         0.003651                             0.077866  \n",
       "std                          0.113740                             1.097532  \n",
       "min                          0.000000                             0.000000  \n",
       "25%                          0.000000                             0.000000  \n",
       "50%                          0.000000                             0.000000  \n",
       "75%                          0.000000                             0.000000  \n",
       "max                          5.330000                            19.330000  \n",
       "\n",
       "[8 rows x 13638 columns]"
      ]
     },
     "execution_count": 81,
     "metadata": {},
     "output_type": "execute_result"
    }
   ],
   "source": [
    "df_final.describe()"
   ]
  },
  {
   "cell_type": "code",
   "execution_count": 11,
   "id": "ed44ae6b",
   "metadata": {},
   "outputs": [],
   "source": [
    "df_url_spread, df_final = get_final_data()"
   ]
  },
  {
   "cell_type": "code",
   "execution_count": 83,
   "id": "d4dcba9d",
   "metadata": {
    "scrolled": true
   },
   "outputs": [
    {
     "data": {
      "text/plain": [
       "<AxesSubplot:xlabel='spread_target', ylabel='Count'>"
      ]
     },
     "execution_count": 83,
     "metadata": {},
     "output_type": "execute_result"
    },
    {
     "data": {
      "image/png": "[encoded data removed]",
      "text/plain": [
       "<Figure size 432x288 with 1 Axes>"
      ]
     },
     "metadata": {
      "needs_background": "light"
     },
     "output_type": "display_data"
    }
   ],
   "source": [
    "sns.histplot(data=df_url_spread['spread_target'])"
   ]
  },
  {
   "cell_type": "code",
   "execution_count": 26,
   "id": "7f68327b",
   "metadata": {},
   "outputs": [
    {
     "data": {
      "image/png": "[encoded data removed]",
      "text/plain": [
       "<Figure size 432x288 with 1 Axes>"
      ]
     },
     "metadata": {
      "needs_background": "light"
     },
     "output_type": "display_data"
    }
   ],
   "source": [
    "pca = PCA(n_components=1000)\n",
    "principalComponents = pca.fit_transform(df_final)\n",
    "principalDf = pd.DataFrame(data = principalComponents)\n",
    "\n",
    "PC_values = np.arange(pca.n_components_) + 1\n",
    "plt.plot(PC_values, pca.explained_variance_ratio_, 'o-', linewidth=2, color='blue')\n",
    "plt.title('Scree Plot')\n",
    "plt.xlabel('Principal Component')\n",
    "plt.ylabel('Variance Explained')\n",
    "plt.show()"
   ]
  },
  {
   "cell_type": "code",
   "execution_count": 28,
   "id": "d4339994",
   "metadata": {},
   "outputs": [
    {
     "data": {
      "image/png": "[encoded data removed]",
      "text/plain": [
       "<Figure size 432x288 with 1 Axes>"
      ]
     },
     "metadata": {
      "needs_background": "light"
     },
     "output_type": "display_data"
    }
   ],
   "source": [
    "pca = PCA(n_components=100)\n",
    "principalComponents = pca.fit_transform(df_final)\n",
    "principalDf = pd.DataFrame(data = principalComponents)\n",
    "\n",
    "PC_values = np.arange(pca.n_components_) + 1\n",
    "plt.plot(PC_values, pca.explained_variance_ratio_, 'o-', linewidth=2, color='blue')\n",
    "plt.title('Scree Plot')\n",
    "plt.xlabel('Principal Component')\n",
    "plt.ylabel('Variance Explained')\n",
    "plt.show()"
   ]
  },
  {
   "cell_type": "code",
   "execution_count": null,
   "id": "17e5ff97",
   "metadata": {},
   "outputs": [],
   "source": []
  },
  {
   "cell_type": "code",
   "execution_count": null,
   "id": "f2b8328b",
   "metadata": {},
   "outputs": [],
   "source": []
  },
  {
   "cell_type": "code",
   "execution_count": 45,
   "id": "08430df4",
   "metadata": {
    "scrolled": true
   },
   "outputs": [
    {
     "data": {
      "text/html": [
       "<div>\n",
       "<style scoped>\n",
       "    .dataframe tbody tr th:only-of-type {\n",
       "        vertical-align: middle;\n",
       "    }\n",
       "\n",
       "    .dataframe tbody tr th {\n",
       "        vertical-align: top;\n",
       "    }\n",
       "\n",
       "    .dataframe thead th {\n",
       "        text-align: right;\n",
       "    }\n",
       "</style>\n",
       "<table border=\"1\" class=\"dataframe\">\n",
       "  <thead>\n",
       "    <tr style=\"text-align: right;\">\n",
       "      <th></th>\n",
       "      <th>0</th>\n",
       "      <th>1</th>\n",
       "      <th>2</th>\n",
       "      <th>3</th>\n",
       "      <th>4</th>\n",
       "      <th>5</th>\n",
       "      <th>6</th>\n",
       "      <th>7</th>\n",
       "      <th>8</th>\n",
       "      <th>9</th>\n",
       "      <th>...</th>\n",
       "      <th>990</th>\n",
       "      <th>991</th>\n",
       "      <th>992</th>\n",
       "      <th>993</th>\n",
       "      <th>994</th>\n",
       "      <th>995</th>\n",
       "      <th>996</th>\n",
       "      <th>997</th>\n",
       "      <th>998</th>\n",
       "      <th>999</th>\n",
       "    </tr>\n",
       "  </thead>\n",
       "  <tbody>\n",
       "    <tr>\n",
       "      <th>0</th>\n",
       "      <td>-2.441268</td>\n",
       "      <td>-0.554502</td>\n",
       "      <td>-0.446093</td>\n",
       "      <td>-1.195887</td>\n",
       "      <td>-1.462241</td>\n",
       "      <td>-0.340129</td>\n",
       "      <td>-0.137608</td>\n",
       "      <td>-0.593095</td>\n",
       "      <td>0.361313</td>\n",
       "      <td>0.174760</td>\n",
       "      <td>...</td>\n",
       "      <td>-0.140025</td>\n",
       "      <td>-0.228238</td>\n",
       "      <td>0.234412</td>\n",
       "      <td>0.143599</td>\n",
       "      <td>0.084972</td>\n",
       "      <td>-0.026708</td>\n",
       "      <td>-0.177829</td>\n",
       "      <td>-0.021549</td>\n",
       "      <td>0.190346</td>\n",
       "      <td>-0.030494</td>\n",
       "    </tr>\n",
       "    <tr>\n",
       "      <th>1</th>\n",
       "      <td>-4.214865</td>\n",
       "      <td>2.833248</td>\n",
       "      <td>-8.030863</td>\n",
       "      <td>-2.888081</td>\n",
       "      <td>-8.127386</td>\n",
       "      <td>-4.321801</td>\n",
       "      <td>-1.074577</td>\n",
       "      <td>-20.389564</td>\n",
       "      <td>-8.700695</td>\n",
       "      <td>-4.182127</td>\n",
       "      <td>...</td>\n",
       "      <td>0.060664</td>\n",
       "      <td>0.203877</td>\n",
       "      <td>-0.224744</td>\n",
       "      <td>0.021033</td>\n",
       "      <td>-0.085027</td>\n",
       "      <td>0.482661</td>\n",
       "      <td>-0.133133</td>\n",
       "      <td>-0.004539</td>\n",
       "      <td>-0.105462</td>\n",
       "      <td>-0.391453</td>\n",
       "    </tr>\n",
       "    <tr>\n",
       "      <th>2</th>\n",
       "      <td>-5.911426</td>\n",
       "      <td>-1.621148</td>\n",
       "      <td>-3.809994</td>\n",
       "      <td>-1.558096</td>\n",
       "      <td>-3.548004</td>\n",
       "      <td>-2.554576</td>\n",
       "      <td>0.606677</td>\n",
       "      <td>-5.143633</td>\n",
       "      <td>1.825869</td>\n",
       "      <td>2.394684</td>\n",
       "      <td>...</td>\n",
       "      <td>-0.035114</td>\n",
       "      <td>0.065299</td>\n",
       "      <td>0.482629</td>\n",
       "      <td>0.527784</td>\n",
       "      <td>0.073847</td>\n",
       "      <td>-0.028605</td>\n",
       "      <td>-0.061541</td>\n",
       "      <td>-0.323881</td>\n",
       "      <td>-0.767583</td>\n",
       "      <td>-0.143621</td>\n",
       "    </tr>\n",
       "    <tr>\n",
       "      <th>3</th>\n",
       "      <td>-1.983261</td>\n",
       "      <td>-0.435268</td>\n",
       "      <td>1.938176</td>\n",
       "      <td>-2.161617</td>\n",
       "      <td>-0.718025</td>\n",
       "      <td>1.035931</td>\n",
       "      <td>0.665200</td>\n",
       "      <td>-1.616880</td>\n",
       "      <td>0.365870</td>\n",
       "      <td>2.102391</td>\n",
       "      <td>...</td>\n",
       "      <td>-0.598392</td>\n",
       "      <td>-0.746279</td>\n",
       "      <td>0.217165</td>\n",
       "      <td>0.947319</td>\n",
       "      <td>-1.200849</td>\n",
       "      <td>1.149737</td>\n",
       "      <td>-0.653933</td>\n",
       "      <td>-1.039430</td>\n",
       "      <td>-0.087963</td>\n",
       "      <td>1.209115</td>\n",
       "    </tr>\n",
       "    <tr>\n",
       "      <th>4</th>\n",
       "      <td>-0.642198</td>\n",
       "      <td>-0.474531</td>\n",
       "      <td>0.618139</td>\n",
       "      <td>-3.027464</td>\n",
       "      <td>-0.586916</td>\n",
       "      <td>-0.100154</td>\n",
       "      <td>0.713309</td>\n",
       "      <td>-0.769629</td>\n",
       "      <td>2.234536</td>\n",
       "      <td>0.901877</td>\n",
       "      <td>...</td>\n",
       "      <td>-0.111632</td>\n",
       "      <td>0.134635</td>\n",
       "      <td>-0.330989</td>\n",
       "      <td>0.091678</td>\n",
       "      <td>-0.442615</td>\n",
       "      <td>-0.084703</td>\n",
       "      <td>0.054621</td>\n",
       "      <td>0.030917</td>\n",
       "      <td>-0.169775</td>\n",
       "      <td>0.220825</td>\n",
       "    </tr>\n",
       "    <tr>\n",
       "      <th>...</th>\n",
       "      <td>...</td>\n",
       "      <td>...</td>\n",
       "      <td>...</td>\n",
       "      <td>...</td>\n",
       "      <td>...</td>\n",
       "      <td>...</td>\n",
       "      <td>...</td>\n",
       "      <td>...</td>\n",
       "      <td>...</td>\n",
       "      <td>...</td>\n",
       "      <td>...</td>\n",
       "      <td>...</td>\n",
       "      <td>...</td>\n",
       "      <td>...</td>\n",
       "      <td>...</td>\n",
       "      <td>...</td>\n",
       "      <td>...</td>\n",
       "      <td>...</td>\n",
       "      <td>...</td>\n",
       "      <td>...</td>\n",
       "      <td>...</td>\n",
       "    </tr>\n",
       "    <tr>\n",
       "      <th>6566</th>\n",
       "      <td>-2.790314</td>\n",
       "      <td>-1.138064</td>\n",
       "      <td>-0.277801</td>\n",
       "      <td>-0.626902</td>\n",
       "      <td>-1.374026</td>\n",
       "      <td>0.465669</td>\n",
       "      <td>-0.853049</td>\n",
       "      <td>-1.617241</td>\n",
       "      <td>0.814989</td>\n",
       "      <td>0.540181</td>\n",
       "      <td>...</td>\n",
       "      <td>0.189036</td>\n",
       "      <td>0.491136</td>\n",
       "      <td>0.073206</td>\n",
       "      <td>-0.489385</td>\n",
       "      <td>-0.428235</td>\n",
       "      <td>-0.324159</td>\n",
       "      <td>-0.556377</td>\n",
       "      <td>-0.035950</td>\n",
       "      <td>0.090738</td>\n",
       "      <td>-0.379881</td>\n",
       "    </tr>\n",
       "    <tr>\n",
       "      <th>6567</th>\n",
       "      <td>-1.500267</td>\n",
       "      <td>-0.862348</td>\n",
       "      <td>1.843592</td>\n",
       "      <td>-1.801031</td>\n",
       "      <td>-0.103920</td>\n",
       "      <td>2.569079</td>\n",
       "      <td>-2.446306</td>\n",
       "      <td>0.212755</td>\n",
       "      <td>1.399824</td>\n",
       "      <td>0.652091</td>\n",
       "      <td>...</td>\n",
       "      <td>0.123526</td>\n",
       "      <td>-0.072957</td>\n",
       "      <td>0.150117</td>\n",
       "      <td>0.183891</td>\n",
       "      <td>-0.263000</td>\n",
       "      <td>-0.495627</td>\n",
       "      <td>0.654481</td>\n",
       "      <td>-0.037728</td>\n",
       "      <td>0.099819</td>\n",
       "      <td>-0.352421</td>\n",
       "    </tr>\n",
       "    <tr>\n",
       "      <th>6568</th>\n",
       "      <td>-3.324167</td>\n",
       "      <td>-1.119443</td>\n",
       "      <td>-0.444495</td>\n",
       "      <td>-1.077420</td>\n",
       "      <td>-1.057251</td>\n",
       "      <td>-0.462229</td>\n",
       "      <td>-0.682954</td>\n",
       "      <td>-0.681441</td>\n",
       "      <td>0.675980</td>\n",
       "      <td>0.255859</td>\n",
       "      <td>...</td>\n",
       "      <td>0.790773</td>\n",
       "      <td>-0.393925</td>\n",
       "      <td>0.131271</td>\n",
       "      <td>0.004983</td>\n",
       "      <td>0.060819</td>\n",
       "      <td>-0.418709</td>\n",
       "      <td>-0.195795</td>\n",
       "      <td>0.331365</td>\n",
       "      <td>-0.084593</td>\n",
       "      <td>-0.470734</td>\n",
       "    </tr>\n",
       "    <tr>\n",
       "      <th>6569</th>\n",
       "      <td>-6.207351</td>\n",
       "      <td>-2.153290</td>\n",
       "      <td>-2.762989</td>\n",
       "      <td>0.399415</td>\n",
       "      <td>-3.294372</td>\n",
       "      <td>-0.194876</td>\n",
       "      <td>-1.148651</td>\n",
       "      <td>-2.447570</td>\n",
       "      <td>0.822171</td>\n",
       "      <td>0.768930</td>\n",
       "      <td>...</td>\n",
       "      <td>0.177404</td>\n",
       "      <td>-0.347474</td>\n",
       "      <td>-0.076470</td>\n",
       "      <td>-0.496984</td>\n",
       "      <td>-0.062490</td>\n",
       "      <td>0.864301</td>\n",
       "      <td>0.297900</td>\n",
       "      <td>0.419346</td>\n",
       "      <td>1.109304</td>\n",
       "      <td>0.993800</td>\n",
       "    </tr>\n",
       "    <tr>\n",
       "      <th>6570</th>\n",
       "      <td>-6.997852</td>\n",
       "      <td>-1.798135</td>\n",
       "      <td>-5.264968</td>\n",
       "      <td>0.157838</td>\n",
       "      <td>-5.442910</td>\n",
       "      <td>-2.372671</td>\n",
       "      <td>-1.053479</td>\n",
       "      <td>-5.474506</td>\n",
       "      <td>-0.257233</td>\n",
       "      <td>0.149467</td>\n",
       "      <td>...</td>\n",
       "      <td>0.366962</td>\n",
       "      <td>0.792311</td>\n",
       "      <td>0.173974</td>\n",
       "      <td>0.234011</td>\n",
       "      <td>-0.167943</td>\n",
       "      <td>0.117075</td>\n",
       "      <td>0.595827</td>\n",
       "      <td>0.049357</td>\n",
       "      <td>-0.411544</td>\n",
       "      <td>-0.218021</td>\n",
       "    </tr>\n",
       "  </tbody>\n",
       "</table>\n",
       "<p>6571 rows × 1000 columns</p>\n",
       "</div>"
      ],
      "text/plain": [
       "           0         1         2         3         4         5         6    \\\n",
       "0    -2.441268 -0.554502 -0.446093 -1.195887 -1.462241 -0.340129 -0.137608   \n",
       "1    -4.214865  2.833248 -8.030863 -2.888081 -8.127386 -4.321801 -1.074577   \n",
       "2    -5.911426 -1.621148 -3.809994 -1.558096 -3.548004 -2.554576  0.606677   \n",
       "3    -1.983261 -0.435268  1.938176 -2.161617 -0.718025  1.035931  0.665200   \n",
       "4    -0.642198 -0.474531  0.618139 -3.027464 -0.586916 -0.100154  0.713309   \n",
       "...        ...       ...       ...       ...       ...       ...       ...   \n",
       "6566 -2.790314 -1.138064 -0.277801 -0.626902 -1.374026  0.465669 -0.853049   \n",
       "6567 -1.500267 -0.862348  1.843592 -1.801031 -0.103920  2.569079 -2.446306   \n",
       "6568 -3.324167 -1.119443 -0.444495 -1.077420 -1.057251 -0.462229 -0.682954   \n",
       "6569 -6.207351 -2.153290 -2.762989  0.399415 -3.294372 -0.194876 -1.148651   \n",
       "6570 -6.997852 -1.798135 -5.264968  0.157838 -5.442910 -2.372671 -1.053479   \n",
       "\n",
       "            7         8         9    ...       990       991       992  \\\n",
       "0     -0.593095  0.361313  0.174760  ... -0.140025 -0.228238  0.234412   \n",
       "1    -20.389564 -8.700695 -4.182127  ...  0.060664  0.203877 -0.224744   \n",
       "2     -5.143633  1.825869  2.394684  ... -0.035114  0.065299  0.482629   \n",
       "3     -1.616880  0.365870  2.102391  ... -0.598392 -0.746279  0.217165   \n",
       "4     -0.769629  2.234536  0.901877  ... -0.111632  0.134635 -0.330989   \n",
       "...         ...       ...       ...  ...       ...       ...       ...   \n",
       "6566  -1.617241  0.814989  0.540181  ...  0.189036  0.491136  0.073206   \n",
       "6567   0.212755  1.399824  0.652091  ...  0.123526 -0.072957  0.150117   \n",
       "6568  -0.681441  0.675980  0.255859  ...  0.790773 -0.393925  0.131271   \n",
       "6569  -2.447570  0.822171  0.768930  ...  0.177404 -0.347474 -0.076470   \n",
       "6570  -5.474506 -0.257233  0.149467  ...  0.366962  0.792311  0.173974   \n",
       "\n",
       "           993       994       995       996       997       998       999  \n",
       "0     0.143599  0.084972 -0.026708 -0.177829 -0.021549  0.190346 -0.030494  \n",
       "1     0.021033 -0.085027  0.482661 -0.133133 -0.004539 -0.105462 -0.391453  \n",
       "2     0.527784  0.073847 -0.028605 -0.061541 -0.323881 -0.767583 -0.143621  \n",
       "3     0.947319 -1.200849  1.149737 -0.653933 -1.039430 -0.087963  1.209115  \n",
       "4     0.091678 -0.442615 -0.084703  0.054621  0.030917 -0.169775  0.220825  \n",
       "...        ...       ...       ...       ...       ...       ...       ...  \n",
       "6566 -0.489385 -0.428235 -0.324159 -0.556377 -0.035950  0.090738 -0.379881  \n",
       "6567  0.183891 -0.263000 -0.495627  0.654481 -0.037728  0.099819 -0.352421  \n",
       "6568  0.004983  0.060819 -0.418709 -0.195795  0.331365 -0.084593 -0.470734  \n",
       "6569 -0.496984 -0.062490  0.864301  0.297900  0.419346  1.109304  0.993800  \n",
       "6570  0.234011 -0.167943  0.117075  0.595827  0.049357 -0.411544 -0.218021  \n",
       "\n",
       "[6571 rows x 1000 columns]"
      ]
     },
     "execution_count": 45,
     "metadata": {},
     "output_type": "execute_result"
    }
   ],
   "source": [
    "principalDf\n",
    "\n",
    "# QUESTION - what's the easiest way to reduce these value types (float64 to float8)"
   ]
  },
  {
   "cell_type": "code",
   "execution_count": 46,
   "id": "db5f807b",
   "metadata": {},
   "outputs": [],
   "source": [
    "# # Separating out the features\n",
    "x = principalDf\n",
    "# Separating out the target\n",
    "y = df_url_spread\n",
    "# Standardizing the features\n",
    "x = StandardScaler().fit_transform(x)\n",
    "y = StandardScaler().fit_transform(y)\n",
    "\n",
    "#pickle a standardscaler object or find values and save. \n",
    "#question: what if i had new data in the future.  how would i use the same standardscaler object to apply the same scaling?"
   ]
  },
  {
   "cell_type": "code",
   "execution_count": 78,
   "id": "b8116443",
   "metadata": {},
   "outputs": [
    {
     "data": {
      "text/plain": [
       "numpy.float64"
      ]
     },
     "execution_count": 78,
     "metadata": {},
     "output_type": "execute_result"
    }
   ],
   "source": [
    "type(x[0][0])"
   ]
  },
  {
   "cell_type": "code",
   "execution_count": 58,
   "id": "821d16a9",
   "metadata": {},
   "outputs": [
    {
     "data": {
      "text/plain": [
       "<AxesSubplot:ylabel='Count'>"
      ]
     },
     "execution_count": 58,
     "metadata": {},
     "output_type": "execute_result"
    },
    {
     "data": {
      "image/png": "[encoded data removed]",
      "text/plain": [
       "<Figure size 432x288 with 1 Axes>"
      ]
     },
     "metadata": {
      "needs_background": "light"
     },
     "output_type": "display_data"
    }
   ],
   "source": [
    "sns.histplot(data=y)"
   ]
  },
  {
   "cell_type": "code",
   "execution_count": 91,
   "id": "2a8bf066",
   "metadata": {},
   "outputs": [
    {
     "data": {
      "text/plain": [
       "<AxesSubplot:ylabel='Count'>"
      ]
     },
     "execution_count": 91,
     "metadata": {},
     "output_type": "execute_result"
    },
    {
     "data": {
      "image/png": "[encoded data removed]",
      "text/plain": [
       "<Figure size 432x288 with 1 Axes>"
      ]
     },
     "metadata": {
      "needs_background": "light"
     },
     "output_type": "display_data"
    }
   ],
   "source": [
    "sns.histplot(data=X_train[0])"
   ]
  },
  {
   "cell_type": "code",
   "execution_count": 23,
   "id": "e4bda195",
   "metadata": {},
   "outputs": [],
   "source": [
    "df_final = db.DBtoDF(generate_sql('sql_files/final.sql'))"
   ]
  },
  {
   "cell_type": "code",
   "execution_count": 16,
   "id": "c3428e15",
   "metadata": {},
   "outputs": [
    {
     "name": "stdout",
     "output_type": "stream",
     "text": [
      "<class 'pandas.core.frame.DataFrame'>\n",
      "RangeIndex: 124431 entries, 0 to 124430\n",
      "Data columns (total 28 columns):\n",
      " #   Column                    Non-Null Count   Dtype  \n",
      "---  ------                    --------------   -----  \n",
      " 0   url                       124431 non-null  object \n",
      " 1   gametype                  124431 non-null  object \n",
      " 2   date                      124431 non-null  object \n",
      " 3   hometeam                  124431 non-null  object \n",
      " 4   awayteam                  124431 non-null  object \n",
      " 5   player                    124431 non-null  object \n",
      " 6   team                      124431 non-null  object \n",
      " 7   two_point_shots_made_x    124431 non-null  float64\n",
      " 8   two_point_shots_x         124431 non-null  float64\n",
      " 9   three_point_shots_made_x  124431 non-null  float64\n",
      " 10  three_point_shots_x       124431 non-null  float64\n",
      " 11  total_makes_x             124431 non-null  float64\n",
      " 12  total_shots_x             124431 non-null  float64\n",
      " 13  defensive_rebounds_x      114402 non-null  float64\n",
      " 14  offensive_rebounds_x      114402 non-null  float64\n",
      " 15  homescore                 124431 non-null  int64  \n",
      " 16  awayscore                 124431 non-null  int64  \n",
      " 17  player_team_x             124431 non-null  object \n",
      " 18  two_point_shots_made_y    124431 non-null  float64\n",
      " 19  two_point_shots_y         124431 non-null  float64\n",
      " 20  three_point_shots_made_y  124431 non-null  float64\n",
      " 21  three_point_shots_y       124431 non-null  float64\n",
      " 22  total_makes_y             124431 non-null  float64\n",
      " 23  total_shots_y             124431 non-null  float64\n",
      " 24  defensive_rebounds_y      100194 non-null  float64\n",
      " 25  offensive_rebounds_y      100194 non-null  float64\n",
      " 26  player_team_y             124431 non-null  object \n",
      " 27  spread_target             124431 non-null  int64  \n",
      "dtypes: float64(16), int64(3), object(9)\n",
      "memory usage: 26.6+ MB\n"
     ]
    }
   ],
   "source": [
    "df_final.info()"
   ]
  },
  {
   "cell_type": "code",
   "execution_count": 228,
   "id": "7877d2d8",
   "metadata": {},
   "outputs": [],
   "source": [
    "db = DB(userName = userName, userPass = userPass, dataBaseName = dbName)\n",
    "\n",
    "def generate_sql(input_sql_file):\n",
    "    '''helper function for build_table.'''\n",
    "    with open(input_sql_file, 'r') as file:\n",
    "        sql = file.read()\n",
    "        return sql\n",
    "    \n",
    "def build_table(sql_file, table_name):\n",
    "    '''postgres does not have a create or replace table option.  so we do that here instead'''\n",
    "    try:\n",
    "        db.BuildTableFromQuery(generate_sql(sql_file), table_name)\n",
    "    except:\n",
    "        db.dropTable(table_name)\n",
    "        db.BuildTableFromQuery(generate_sql(sql_file), table_name)\n",
    "\n",
    "def get_final_data():\n",
    "    '''shapes data before cleaning'''\n",
    "    df_final = db.DBtoDF(generate_sql('sql_files/final.sql'))\n",
    "    df_url_spread = df_final[['url', 'spread_target']]\n",
    "    df_url_spread = df_url_spread.groupby('url').mean()\n",
    "\n",
    "    #values are the features we plan to use for modeling\n",
    "    values = ['two_point_shots_made_y','two_point_shots_y',\n",
    "              'three_point_shots_made_y','three_point_shots_y',\n",
    "              'total_makes_y','total_shots_y','defensive_rebounds_y',\n",
    "              'offensive_rebounds_y']\n",
    "    \n",
    "    teams_gametype =   ['url','gametype_regular', 'hometeam_ATL', 'hometeam_BOS', 'hometeam_BRK',\n",
    "                       'hometeam_CHI', 'hometeam_CHO', 'hometeam_CLE', 'hometeam_DAL',\n",
    "                       'hometeam_DEN', 'hometeam_DET', 'hometeam_GSW', 'hometeam_HOU',\n",
    "                       'hometeam_IND', 'hometeam_LAC', 'hometeam_LAL', 'hometeam_MEM',\n",
    "                       'hometeam_MIA', 'hometeam_MIL', 'hometeam_MIN', 'hometeam_NOP',\n",
    "                       'hometeam_NYK', 'hometeam_OKC', 'hometeam_ORL', 'hometeam_PHI',\n",
    "                       'hometeam_PHO', 'hometeam_POR', 'hometeam_SAC', 'hometeam_SAS',\n",
    "                       'hometeam_TOR', 'hometeam_UTA', 'hometeam_WAS', 'awayteam_ATL',\n",
    "                       'awayteam_BOS', 'awayteam_BRK', 'awayteam_CHI', 'awayteam_CHO',\n",
    "                       'awayteam_CLE', 'awayteam_DAL', 'awayteam_DEN', 'awayteam_DET',\n",
    "                       'awayteam_GSW', 'awayteam_HOU', 'awayteam_IND', 'awayteam_LAC',\n",
    "                       'awayteam_LAL', 'awayteam_MEM', 'awayteam_MIA', 'awayteam_MIL',\n",
    "                       'awayteam_MIN', 'awayteam_NOP', 'awayteam_NYK', 'awayteam_OKC',\n",
    "                       'awayteam_ORL', 'awayteam_PHI', 'awayteam_PHO', 'awayteam_POR',\n",
    "                       'awayteam_SAC', 'awayteam_SAS', 'awayteam_TOR', 'awayteam_UTA',\n",
    "                       'awayteam_WAS']\n",
    "    \n",
    "    #include gametype, hometeam, and awayteam in separate dataframe to join to df_final\n",
    "    df_dummies = pd.get_dummies(df_final, columns=['gametype','hometeam', 'awayteam'])[teams_gametype].groupby('url').agg('max')\n",
    "    \n",
    "    #df is now going to be in the right shape for modeling\n",
    "    df_final = pd.pivot_table(df_final, values=values, \n",
    "                                        columns=['player_team_y'],\n",
    "                                        index='url',\n",
    "                                        aggfunc=np.mean)\n",
    "    #collapsing the pivot multi index\n",
    "    df_final.columns = df_final.columns.to_series().str.join('_')\n",
    "    df_final = df_final.fillna(0)\n",
    "    df_final = df_final.merge(df_dummies, how='left', on='url')\n",
    "    #df_final = df_final.round(2)\n",
    "    return df_url_spread, df_final\n",
    "\n",
    "\n",
    "def clean_data():\n",
    "    df_url_spread, df_final = get_final_data()\n",
    "    \n",
    "#     pca\n",
    "    pca = PCA(n_components=3)\n",
    "    principalComponents = pca.fit_transform(df_final)\n",
    "    principalDf = pd.DataFrame(data = principalComponents)\n",
    "    \n",
    "    # scale data\n",
    "    # Separating out the features\n",
    "    x = principalDf\n",
    "    # Separating out the target\n",
    "    y = df_url_spread\n",
    "    \n",
    "    # use x,y below if not using pca\n",
    "#     x = df_final\n",
    "#     y = df_url_spread\n",
    "    \n",
    "    \n",
    "    # Standardizing the features\n",
    "    x = StandardScaler().fit_transform(x)\n",
    "    # x = StandardScaler().fit_transform(x).round(2)\n",
    "    # y = StandardScaler().fit_transform(y)\n",
    "    \n",
    "    X_train, X_test, y_train, y_test  = train_test_split(x,y) \n",
    "    return X_train, X_test, y_train, y_test\n",
    "\n",
    "\n",
    "def evaluate_model(pred_train, pred_test):\n",
    "    print(f\"scores for model: \")\n",
    "    print(\"Train R2 score:\", round(r2_score(y_train, pred_train),2))\n",
    "    print(\"Train rmse score:\", round(np.sqrt(MSE(y_train, pred_train)),2))\n",
    "    print(\"Test R2 score:\", round(r2_score(y_test, pred_test),2))\n",
    "    print(\"Test rmse score:\", round(np.sqrt(MSE(y_test, pred_test)),2))\n",
    "    \n",
    "\n",
    "def build_xgb():\n",
    "    #prep data for xgb\n",
    "    dtrain = xgb.DMatrix(X_train, label=y_train)\n",
    "    dtest = xgb.DMatrix(X_test, label=y_test)\n",
    "    \n",
    "    #play with hyperparemters\n",
    "    param = {'max_depth': 3, 'eta': .1, 'objective': 'reg:squarederror'}\n",
    "    param['nthread'] = 4\n",
    "    param['eval_metric'] = 'rmse'\n",
    "    num_round = 10\n",
    "    \n",
    "    #train\n",
    "    bst = xgb.train(param, dtrain, num_round)\n",
    "    xgb_pred_train = bst.predict(dtrain)\n",
    "    xgb_pred_test = bst.predict(dtest)\n",
    "    \n",
    "    evaluate_model(xgb_pred_train, xgb_pred_test)\n",
    "        \n",
    "    # save model\n",
    "    bst.save_model('xgb_model.json')\n",
    "    \n",
    "def load_xgb(filename):\n",
    "    bst = xgb.Booster()  # init model\n",
    "    bst.load_model(filename)  # load data\n",
    "    return bst\n",
    "    \n",
    "def build_automl():\n",
    "    automl = autosklearn.regression.AutoSklearnRegressor(\n",
    "    time_left_for_this_task=120,\n",
    "    per_run_time_limit=30\n",
    "    )\n",
    "    \n",
    "    automl.fit(X_train, y_train)\n",
    "    automl_train_pred = automl.predict(X_train)\n",
    "    automl_test_pred = automl.predict(X_test)\n",
    "    evaluate_model(automl_train_pred, automl_test_pred)\n",
    "    \n",
    "    with open('automl.pkl', 'wb') as f:\n",
    "        pickle.dump(automl, f)\n",
    "\n",
    "        \n",
    "def load_automl(filename):\n",
    "    # load model\n",
    "    with open(filename, 'rb') as f:\n",
    "        automl = pickle.load(f)\n",
    "    return automl\n",
    "\n",
    "#using auto keras\n",
    "def build_autokeras():\n",
    "    \n",
    "#     train_set = tf.data.Dataset.from_tensor_slices((X_train, y_train))\n",
    "#     test_set = tf.data.Dataset.from_tensor_slices((X_test, y_test))\n",
    "    \n",
    "    reg = ak.StructuredDataRegressor(max_trials=3, overwrite=True)\n",
    "    # Feed the structured data regressor with training data.\n",
    "    reg.fit(X_train, y_train, epochs=10)\n",
    "  # reg.fit(train_set, epochs=10)\n",
    "    \n",
    "    autokeras_train_pred = reg.predict(X_train)\n",
    "    autokeras_test_pred = reg.predict(X_test)\n",
    "    \n",
    "    \n",
    "#     autokeras_train_pred = reg.predict(train_set)\n",
    "#     autokeras_test_pred = reg.predict(test_set)\n",
    "    # Evaluate the best model with testing data.\n",
    "    print(reg.evaluate(X_train, y_train))\n",
    "    print(reg.evaluate(X_test, y_test))\n",
    "\n",
    "    evaluate_model(autokeras_train_pred, autokeras_test_pred)\n",
    "    \n",
    "    # save model\n",
    "    reg.save(\"model_autokeras\", save_format=\"tf\")\n",
    "    \n",
    "def load_autokeras(filename):\n",
    "    loaded_model = keras.models.load_model(filename, custom_objects=ak.CUSTOM_OBJECTS)\n",
    "    return loaded_model\n",
    "    \n",
    "def build_keras(epochs):\n",
    "    model = keras.Sequential([\n",
    "            layers.Dense(3, input_dim=3, activation='relu'),\n",
    "            layers.Dense(3, activation='relu'),\n",
    "            layers.Dense(3, activation='relu'),\n",
    "            layers.Dense(1)\n",
    "            ])\n",
    "\n",
    "    model.compile(loss='mean_absolute_error',\n",
    "                optimizer=tf.keras.optimizers.Adam(0.01))\n",
    "    \n",
    "    model.fit(X_train, y_train, epochs = epochs)\n",
    "    \n",
    "    keras_train = model.predict(X_train)\n",
    "    keras_test = model.predict(X_test)\n",
    "    evaluate_model(keras_train, keras_test)\n",
    "        \n",
    "    #save model\n",
    "    model.save(\"model_keras\", save_format=\"tf\")\n",
    "    \n",
    "    \n",
    "def load_keras(filename):\n",
    "    loaded_model = keras.models.load_model(filename, custom_objects=ak.CUSTOM_OBJECTS)\n",
    "    return loaded_model\n"
   ]
  },
  {
   "cell_type": "code",
   "execution_count": 235,
   "id": "f43a8bc3",
   "metadata": {},
   "outputs": [],
   "source": [
    "def build_xgb2():\n",
    "    #prep data for xgb\n",
    "    #dtrain = xgb.DMatrix(X_train, label=y_train)\n",
    "    #dtest = xgb.DMatrix(X_test, label=y_test)\n",
    "    \n",
    "    #play with hyperparemters\n",
    "    param = {'max_depth': 3, 'eta': .1, 'objective': 'reg:squarederror'}\n",
    "    param['nthread'] = 4\n",
    "    param['eval_metric'] = 'rmse'\n",
    "    num_round = 10\n",
    "    \n",
    "    #train\n",
    "    bst = xgb.train(param, X_train, y_train, num_round)\n",
    "    xgb_pred_train = bst.predict(X_train)\n",
    "    xgb_pred_test = bst.predict(X_test)\n",
    "    \n",
    "    evaluate_model(xgb_pred_train, xgb_pred_test)\n",
    "        \n",
    "    # save model\n",
    "    bst.save_model('xgb_model.json')"
   ]
  },
  {
   "cell_type": "code",
   "execution_count": null,
   "id": "337d8d58",
   "metadata": {},
   "outputs": [],
   "source": []
  },
  {
   "cell_type": "code",
   "execution_count": 245,
   "id": "42236fce",
   "metadata": {},
   "outputs": [
    {
     "name": "stdout",
     "output_type": "stream",
     "text": [
      "1.4719771\n"
     ]
    }
   ],
   "source": [
    "values = [[-0.96873684, -0.14134896,  0.33981747]]\n",
    "data = values\n",
    "bst = xgb.Booster()  # init model\n",
    "bst.load_model('xgb_model.json')  \n",
    "dtest = xgb.DMatrix(data)\n",
    "prediction = bst.predict(dtest)\n",
    "output = prediction[0]\n",
    "print(output)"
   ]
  },
  {
   "cell_type": "code",
   "execution_count": 240,
   "id": "69f6dbfb",
   "metadata": {},
   "outputs": [
    {
     "data": {
      "text/plain": [
       "array([1.4719771], dtype=float32)"
      ]
     },
     "execution_count": 240,
     "metadata": {},
     "output_type": "execute_result"
    }
   ],
   "source": []
  },
  {
   "cell_type": "code",
   "execution_count": null,
   "id": "1c531475",
   "metadata": {},
   "outputs": [],
   "source": []
  },
  {
   "cell_type": "code",
   "execution_count": null,
   "id": "7e195957",
   "metadata": {},
   "outputs": [],
   "source": []
  },
  {
   "cell_type": "code",
   "execution_count": null,
   "id": "4178e057",
   "metadata": {},
   "outputs": [],
   "source": []
  },
  {
   "cell_type": "code",
   "execution_count": 236,
   "id": "f04bee20",
   "metadata": {},
   "outputs": [
    {
     "ename": "TypeError",
     "evalue": "'int' object is not iterable",
     "output_type": "error",
     "traceback": [
      "\u001b[0;31m---------------------------------------------------------------------------\u001b[0m",
      "\u001b[0;31mTypeError\u001b[0m                                 Traceback (most recent call last)",
      "\u001b[0;32m/tmp/ipykernel_3130/673299570.py\u001b[0m in \u001b[0;36m<module>\u001b[0;34m\u001b[0m\n\u001b[0;32m----> 1\u001b[0;31m \u001b[0mbuild_xgb2\u001b[0m\u001b[0;34m(\u001b[0m\u001b[0;34m)\u001b[0m\u001b[0;34m\u001b[0m\u001b[0;34m\u001b[0m\u001b[0m\n\u001b[0m",
      "\u001b[0;32m/tmp/ipykernel_3130/1605075925.py\u001b[0m in \u001b[0;36mbuild_xgb2\u001b[0;34m()\u001b[0m\n\u001b[1;32m     11\u001b[0m \u001b[0;34m\u001b[0m\u001b[0m\n\u001b[1;32m     12\u001b[0m     \u001b[0;31m#train\u001b[0m\u001b[0;34m\u001b[0m\u001b[0;34m\u001b[0m\u001b[0;34m\u001b[0m\u001b[0m\n\u001b[0;32m---> 13\u001b[0;31m     \u001b[0mbst\u001b[0m \u001b[0;34m=\u001b[0m \u001b[0mxgb\u001b[0m\u001b[0;34m.\u001b[0m\u001b[0mtrain\u001b[0m\u001b[0;34m(\u001b[0m\u001b[0mparam\u001b[0m\u001b[0;34m,\u001b[0m \u001b[0mX_train\u001b[0m\u001b[0;34m,\u001b[0m \u001b[0my_train\u001b[0m\u001b[0;34m,\u001b[0m \u001b[0mnum_round\u001b[0m\u001b[0;34m)\u001b[0m\u001b[0;34m\u001b[0m\u001b[0;34m\u001b[0m\u001b[0m\n\u001b[0m\u001b[1;32m     14\u001b[0m     \u001b[0mxgb_pred_train\u001b[0m \u001b[0;34m=\u001b[0m \u001b[0mbst\u001b[0m\u001b[0;34m.\u001b[0m\u001b[0mpredict\u001b[0m\u001b[0;34m(\u001b[0m\u001b[0mX_train\u001b[0m\u001b[0;34m)\u001b[0m\u001b[0;34m\u001b[0m\u001b[0;34m\u001b[0m\u001b[0m\n\u001b[1;32m     15\u001b[0m     \u001b[0mxgb_pred_test\u001b[0m \u001b[0;34m=\u001b[0m \u001b[0mbst\u001b[0m\u001b[0;34m.\u001b[0m\u001b[0mpredict\u001b[0m\u001b[0;34m(\u001b[0m\u001b[0mX_test\u001b[0m\u001b[0;34m)\u001b[0m\u001b[0;34m\u001b[0m\u001b[0;34m\u001b[0m\u001b[0m\n",
      "\u001b[0;32m~/Desktop/Projects/springboard_final/app/env/lib/python3.8/site-packages/xgboost/training.py\u001b[0m in \u001b[0;36mtrain\u001b[0;34m(params, dtrain, num_boost_round, evals, obj, feval, maximize, early_stopping_rounds, evals_result, verbose_eval, xgb_model, callbacks)\u001b[0m\n\u001b[1;32m    186\u001b[0m     \u001b[0mBooster\u001b[0m \u001b[0;34m:\u001b[0m \u001b[0ma\u001b[0m \u001b[0mtrained\u001b[0m \u001b[0mbooster\u001b[0m \u001b[0mmodel\u001b[0m\u001b[0;34m\u001b[0m\u001b[0;34m\u001b[0m\u001b[0m\n\u001b[1;32m    187\u001b[0m     \"\"\"\n\u001b[0;32m--> 188\u001b[0;31m     bst = _train_internal(params, dtrain,\n\u001b[0m\u001b[1;32m    189\u001b[0m                           \u001b[0mnum_boost_round\u001b[0m\u001b[0;34m=\u001b[0m\u001b[0mnum_boost_round\u001b[0m\u001b[0;34m,\u001b[0m\u001b[0;34m\u001b[0m\u001b[0;34m\u001b[0m\u001b[0m\n\u001b[1;32m    190\u001b[0m                           \u001b[0mevals\u001b[0m\u001b[0;34m=\u001b[0m\u001b[0mevals\u001b[0m\u001b[0;34m,\u001b[0m\u001b[0;34m\u001b[0m\u001b[0;34m\u001b[0m\u001b[0m\n",
      "\u001b[0;32m~/Desktop/Projects/springboard_final/app/env/lib/python3.8/site-packages/xgboost/training.py\u001b[0m in \u001b[0;36m_train_internal\u001b[0;34m(params, dtrain, num_boost_round, evals, obj, feval, xgb_model, callbacks, evals_result, maximize, verbose_eval, early_stopping_rounds)\u001b[0m\n\u001b[1;32m     47\u001b[0m     \u001b[0;34m\"\"\"internal training function\"\"\"\u001b[0m\u001b[0;34m\u001b[0m\u001b[0;34m\u001b[0m\u001b[0m\n\u001b[1;32m     48\u001b[0m     \u001b[0mcallbacks\u001b[0m \u001b[0;34m=\u001b[0m \u001b[0;34m[\u001b[0m\u001b[0;34m]\u001b[0m \u001b[0;32mif\u001b[0m \u001b[0mcallbacks\u001b[0m \u001b[0;32mis\u001b[0m \u001b[0;32mNone\u001b[0m \u001b[0;32melse\u001b[0m \u001b[0mcopy\u001b[0m\u001b[0;34m.\u001b[0m\u001b[0mcopy\u001b[0m\u001b[0;34m(\u001b[0m\u001b[0mcallbacks\u001b[0m\u001b[0;34m)\u001b[0m\u001b[0;34m\u001b[0m\u001b[0;34m\u001b[0m\u001b[0m\n\u001b[0;32m---> 49\u001b[0;31m     \u001b[0mevals\u001b[0m \u001b[0;34m=\u001b[0m \u001b[0mlist\u001b[0m\u001b[0;34m(\u001b[0m\u001b[0mevals\u001b[0m\u001b[0;34m)\u001b[0m\u001b[0;34m\u001b[0m\u001b[0;34m\u001b[0m\u001b[0m\n\u001b[0m\u001b[1;32m     50\u001b[0m \u001b[0;34m\u001b[0m\u001b[0m\n\u001b[1;32m     51\u001b[0m     \u001b[0mbst\u001b[0m \u001b[0;34m=\u001b[0m \u001b[0mBooster\u001b[0m\u001b[0;34m(\u001b[0m\u001b[0mparams\u001b[0m\u001b[0;34m,\u001b[0m \u001b[0;34m[\u001b[0m\u001b[0mdtrain\u001b[0m\u001b[0;34m]\u001b[0m \u001b[0;34m+\u001b[0m \u001b[0;34m[\u001b[0m\u001b[0md\u001b[0m\u001b[0;34m[\u001b[0m\u001b[0;36m0\u001b[0m\u001b[0;34m]\u001b[0m \u001b[0;32mfor\u001b[0m \u001b[0md\u001b[0m \u001b[0;32min\u001b[0m \u001b[0mevals\u001b[0m\u001b[0;34m]\u001b[0m\u001b[0;34m)\u001b[0m\u001b[0;34m\u001b[0m\u001b[0;34m\u001b[0m\u001b[0m\n",
      "\u001b[0;31mTypeError\u001b[0m: 'int' object is not iterable"
     ]
    }
   ],
   "source": [
    "build_xgb2()"
   ]
  },
  {
   "cell_type": "code",
   "execution_count": 231,
   "id": "8a73d95d",
   "metadata": {},
   "outputs": [
    {
     "data": {
      "text/plain": [
       "array([-0.16873684, -0.14134896,  0.33981747])"
      ]
     },
     "execution_count": 231,
     "metadata": {},
     "output_type": "execute_result"
    }
   ],
   "source": [
    "X_train[0]"
   ]
  },
  {
   "cell_type": "code",
   "execution_count": 229,
   "id": "324b359a",
   "metadata": {},
   "outputs": [],
   "source": [
    "X_train, X_test, y_train, y_test = clean_data()"
   ]
  },
  {
   "cell_type": "code",
   "execution_count": 232,
   "id": "36a0a775",
   "metadata": {},
   "outputs": [
    {
     "name": "stdout",
     "output_type": "stream",
     "text": [
      "scores for model: \n",
      "Train R2 score: 0.01\n",
      "Train rmse score: 14.06\n",
      "Test R2 score: -0.01\n",
      "Test rmse score: 13.58\n"
     ]
    }
   ],
   "source": [
    "build_xgb()"
   ]
  },
  {
   "cell_type": "code",
   "execution_count": 124,
   "id": "f7205b2e",
   "metadata": {},
   "outputs": [],
   "source": [
    "df_url_spread, df_final = get_final_data()"
   ]
  },
  {
   "cell_type": "code",
   "execution_count": 31,
   "id": "414671f1",
   "metadata": {},
   "outputs": [
    {
     "data": {
      "text/html": [
       "<div>\n",
       "<style scoped>\n",
       "    .dataframe tbody tr th:only-of-type {\n",
       "        vertical-align: middle;\n",
       "    }\n",
       "\n",
       "    .dataframe tbody tr th {\n",
       "        vertical-align: top;\n",
       "    }\n",
       "\n",
       "    .dataframe thead th {\n",
       "        text-align: right;\n",
       "    }\n",
       "</style>\n",
       "<table border=\"1\" class=\"dataframe\">\n",
       "  <thead>\n",
       "    <tr style=\"text-align: right;\">\n",
       "      <th></th>\n",
       "      <th>defensive_rebounds_y_A. Afflalo_NYK</th>\n",
       "      <th>defensive_rebounds_y_A. Afflalo_ORL</th>\n",
       "      <th>defensive_rebounds_y_A. Afflalo_SAC</th>\n",
       "      <th>defensive_rebounds_y_A. Aminu_ORL</th>\n",
       "      <th>defensive_rebounds_y_A. Aminu_POR</th>\n",
       "      <th>defensive_rebounds_y_A. Anderson_LAC</th>\n",
       "      <th>defensive_rebounds_y_A. Anderson_WAS</th>\n",
       "      <th>defensive_rebounds_y_A. Bargnani_BRK</th>\n",
       "      <th>defensive_rebounds_y_A. Baynes_BOS</th>\n",
       "      <th>defensive_rebounds_y_A. Baynes_DET</th>\n",
       "      <th>...</th>\n",
       "      <th>awayteam_OKC</th>\n",
       "      <th>awayteam_ORL</th>\n",
       "      <th>awayteam_PHI</th>\n",
       "      <th>awayteam_PHO</th>\n",
       "      <th>awayteam_POR</th>\n",
       "      <th>awayteam_SAC</th>\n",
       "      <th>awayteam_SAS</th>\n",
       "      <th>awayteam_TOR</th>\n",
       "      <th>awayteam_UTA</th>\n",
       "      <th>awayteam_WAS</th>\n",
       "    </tr>\n",
       "    <tr>\n",
       "      <th>url</th>\n",
       "      <th></th>\n",
       "      <th></th>\n",
       "      <th></th>\n",
       "      <th></th>\n",
       "      <th></th>\n",
       "      <th></th>\n",
       "      <th></th>\n",
       "      <th></th>\n",
       "      <th></th>\n",
       "      <th></th>\n",
       "      <th></th>\n",
       "      <th></th>\n",
       "      <th></th>\n",
       "      <th></th>\n",
       "      <th></th>\n",
       "      <th></th>\n",
       "      <th></th>\n",
       "      <th></th>\n",
       "      <th></th>\n",
       "      <th></th>\n",
       "      <th></th>\n",
       "    </tr>\n",
       "  </thead>\n",
       "  <tbody>\n",
       "    <tr>\n",
       "      <th>/boxscores/201510300ATL.html</th>\n",
       "      <td>0.0</td>\n",
       "      <td>0.0</td>\n",
       "      <td>0.0</td>\n",
       "      <td>0.0</td>\n",
       "      <td>0.0</td>\n",
       "      <td>0.0</td>\n",
       "      <td>0.0</td>\n",
       "      <td>0.0</td>\n",
       "      <td>0.0</td>\n",
       "      <td>0.00</td>\n",
       "      <td>...</td>\n",
       "      <td>0</td>\n",
       "      <td>0</td>\n",
       "      <td>0</td>\n",
       "      <td>0</td>\n",
       "      <td>0</td>\n",
       "      <td>0</td>\n",
       "      <td>0</td>\n",
       "      <td>0</td>\n",
       "      <td>0</td>\n",
       "      <td>0</td>\n",
       "    </tr>\n",
       "    <tr>\n",
       "      <th>/boxscores/201510300CLE.html</th>\n",
       "      <td>0.0</td>\n",
       "      <td>0.0</td>\n",
       "      <td>0.0</td>\n",
       "      <td>0.0</td>\n",
       "      <td>0.0</td>\n",
       "      <td>0.0</td>\n",
       "      <td>0.0</td>\n",
       "      <td>0.0</td>\n",
       "      <td>0.0</td>\n",
       "      <td>0.00</td>\n",
       "      <td>...</td>\n",
       "      <td>0</td>\n",
       "      <td>0</td>\n",
       "      <td>0</td>\n",
       "      <td>0</td>\n",
       "      <td>0</td>\n",
       "      <td>0</td>\n",
       "      <td>0</td>\n",
       "      <td>0</td>\n",
       "      <td>0</td>\n",
       "      <td>0</td>\n",
       "    </tr>\n",
       "    <tr>\n",
       "      <th>/boxscores/201510300DET.html</th>\n",
       "      <td>0.0</td>\n",
       "      <td>0.0</td>\n",
       "      <td>0.0</td>\n",
       "      <td>0.0</td>\n",
       "      <td>0.0</td>\n",
       "      <td>0.0</td>\n",
       "      <td>0.0</td>\n",
       "      <td>0.0</td>\n",
       "      <td>0.0</td>\n",
       "      <td>3.33</td>\n",
       "      <td>...</td>\n",
       "      <td>0</td>\n",
       "      <td>0</td>\n",
       "      <td>0</td>\n",
       "      <td>0</td>\n",
       "      <td>0</td>\n",
       "      <td>0</td>\n",
       "      <td>0</td>\n",
       "      <td>0</td>\n",
       "      <td>0</td>\n",
       "      <td>0</td>\n",
       "    </tr>\n",
       "    <tr>\n",
       "      <th>/boxscores/201510310IND.html</th>\n",
       "      <td>0.0</td>\n",
       "      <td>0.0</td>\n",
       "      <td>0.0</td>\n",
       "      <td>0.0</td>\n",
       "      <td>0.0</td>\n",
       "      <td>0.0</td>\n",
       "      <td>0.0</td>\n",
       "      <td>0.0</td>\n",
       "      <td>0.0</td>\n",
       "      <td>0.00</td>\n",
       "      <td>...</td>\n",
       "      <td>0</td>\n",
       "      <td>0</td>\n",
       "      <td>0</td>\n",
       "      <td>0</td>\n",
       "      <td>0</td>\n",
       "      <td>0</td>\n",
       "      <td>0</td>\n",
       "      <td>0</td>\n",
       "      <td>1</td>\n",
       "      <td>0</td>\n",
       "    </tr>\n",
       "    <tr>\n",
       "      <th>/boxscores/201510310LAC.html</th>\n",
       "      <td>0.0</td>\n",
       "      <td>0.0</td>\n",
       "      <td>0.0</td>\n",
       "      <td>0.0</td>\n",
       "      <td>0.0</td>\n",
       "      <td>0.0</td>\n",
       "      <td>0.0</td>\n",
       "      <td>0.0</td>\n",
       "      <td>0.0</td>\n",
       "      <td>0.00</td>\n",
       "      <td>...</td>\n",
       "      <td>0</td>\n",
       "      <td>0</td>\n",
       "      <td>0</td>\n",
       "      <td>0</td>\n",
       "      <td>0</td>\n",
       "      <td>1</td>\n",
       "      <td>0</td>\n",
       "      <td>0</td>\n",
       "      <td>0</td>\n",
       "      <td>0</td>\n",
       "    </tr>\n",
       "  </tbody>\n",
       "</table>\n",
       "<p>5 rows × 13699 columns</p>\n",
       "</div>"
      ],
      "text/plain": [
       "                              defensive_rebounds_y_A. Afflalo_NYK  \\\n",
       "url                                                                 \n",
       "/boxscores/201510300ATL.html                                  0.0   \n",
       "/boxscores/201510300CLE.html                                  0.0   \n",
       "/boxscores/201510300DET.html                                  0.0   \n",
       "/boxscores/201510310IND.html                                  0.0   \n",
       "/boxscores/201510310LAC.html                                  0.0   \n",
       "\n",
       "                              defensive_rebounds_y_A. Afflalo_ORL  \\\n",
       "url                                                                 \n",
       "/boxscores/201510300ATL.html                                  0.0   \n",
       "/boxscores/201510300CLE.html                                  0.0   \n",
       "/boxscores/201510300DET.html                                  0.0   \n",
       "/boxscores/201510310IND.html                                  0.0   \n",
       "/boxscores/201510310LAC.html                                  0.0   \n",
       "\n",
       "                              defensive_rebounds_y_A. Afflalo_SAC  \\\n",
       "url                                                                 \n",
       "/boxscores/201510300ATL.html                                  0.0   \n",
       "/boxscores/201510300CLE.html                                  0.0   \n",
       "/boxscores/201510300DET.html                                  0.0   \n",
       "/boxscores/201510310IND.html                                  0.0   \n",
       "/boxscores/201510310LAC.html                                  0.0   \n",
       "\n",
       "                              defensive_rebounds_y_A. Aminu_ORL  \\\n",
       "url                                                               \n",
       "/boxscores/201510300ATL.html                                0.0   \n",
       "/boxscores/201510300CLE.html                                0.0   \n",
       "/boxscores/201510300DET.html                                0.0   \n",
       "/boxscores/201510310IND.html                                0.0   \n",
       "/boxscores/201510310LAC.html                                0.0   \n",
       "\n",
       "                              defensive_rebounds_y_A. Aminu_POR  \\\n",
       "url                                                               \n",
       "/boxscores/201510300ATL.html                                0.0   \n",
       "/boxscores/201510300CLE.html                                0.0   \n",
       "/boxscores/201510300DET.html                                0.0   \n",
       "/boxscores/201510310IND.html                                0.0   \n",
       "/boxscores/201510310LAC.html                                0.0   \n",
       "\n",
       "                              defensive_rebounds_y_A. Anderson_LAC  \\\n",
       "url                                                                  \n",
       "/boxscores/201510300ATL.html                                   0.0   \n",
       "/boxscores/201510300CLE.html                                   0.0   \n",
       "/boxscores/201510300DET.html                                   0.0   \n",
       "/boxscores/201510310IND.html                                   0.0   \n",
       "/boxscores/201510310LAC.html                                   0.0   \n",
       "\n",
       "                              defensive_rebounds_y_A. Anderson_WAS  \\\n",
       "url                                                                  \n",
       "/boxscores/201510300ATL.html                                   0.0   \n",
       "/boxscores/201510300CLE.html                                   0.0   \n",
       "/boxscores/201510300DET.html                                   0.0   \n",
       "/boxscores/201510310IND.html                                   0.0   \n",
       "/boxscores/201510310LAC.html                                   0.0   \n",
       "\n",
       "                              defensive_rebounds_y_A. Bargnani_BRK  \\\n",
       "url                                                                  \n",
       "/boxscores/201510300ATL.html                                   0.0   \n",
       "/boxscores/201510300CLE.html                                   0.0   \n",
       "/boxscores/201510300DET.html                                   0.0   \n",
       "/boxscores/201510310IND.html                                   0.0   \n",
       "/boxscores/201510310LAC.html                                   0.0   \n",
       "\n",
       "                              defensive_rebounds_y_A. Baynes_BOS  \\\n",
       "url                                                                \n",
       "/boxscores/201510300ATL.html                                 0.0   \n",
       "/boxscores/201510300CLE.html                                 0.0   \n",
       "/boxscores/201510300DET.html                                 0.0   \n",
       "/boxscores/201510310IND.html                                 0.0   \n",
       "/boxscores/201510310LAC.html                                 0.0   \n",
       "\n",
       "                              defensive_rebounds_y_A. Baynes_DET  ...  \\\n",
       "url                                                               ...   \n",
       "/boxscores/201510300ATL.html                                0.00  ...   \n",
       "/boxscores/201510300CLE.html                                0.00  ...   \n",
       "/boxscores/201510300DET.html                                3.33  ...   \n",
       "/boxscores/201510310IND.html                                0.00  ...   \n",
       "/boxscores/201510310LAC.html                                0.00  ...   \n",
       "\n",
       "                              awayteam_OKC  awayteam_ORL  awayteam_PHI  \\\n",
       "url                                                                      \n",
       "/boxscores/201510300ATL.html             0             0             0   \n",
       "/boxscores/201510300CLE.html             0             0             0   \n",
       "/boxscores/201510300DET.html             0             0             0   \n",
       "/boxscores/201510310IND.html             0             0             0   \n",
       "/boxscores/201510310LAC.html             0             0             0   \n",
       "\n",
       "                              awayteam_PHO  awayteam_POR  awayteam_SAC  \\\n",
       "url                                                                      \n",
       "/boxscores/201510300ATL.html             0             0             0   \n",
       "/boxscores/201510300CLE.html             0             0             0   \n",
       "/boxscores/201510300DET.html             0             0             0   \n",
       "/boxscores/201510310IND.html             0             0             0   \n",
       "/boxscores/201510310LAC.html             0             0             1   \n",
       "\n",
       "                              awayteam_SAS  awayteam_TOR  awayteam_UTA  \\\n",
       "url                                                                      \n",
       "/boxscores/201510300ATL.html             0             0             0   \n",
       "/boxscores/201510300CLE.html             0             0             0   \n",
       "/boxscores/201510300DET.html             0             0             0   \n",
       "/boxscores/201510310IND.html             0             0             1   \n",
       "/boxscores/201510310LAC.html             0             0             0   \n",
       "\n",
       "                              awayteam_WAS  \n",
       "url                                         \n",
       "/boxscores/201510300ATL.html             0  \n",
       "/boxscores/201510300CLE.html             0  \n",
       "/boxscores/201510300DET.html             0  \n",
       "/boxscores/201510310IND.html             0  \n",
       "/boxscores/201510310LAC.html             0  \n",
       "\n",
       "[5 rows x 13699 columns]"
      ]
     },
     "execution_count": 31,
     "metadata": {},
     "output_type": "execute_result"
    }
   ],
   "source": [
    "df_final.head()"
   ]
  },
  {
   "cell_type": "code",
   "execution_count": 126,
   "id": "4049554c",
   "metadata": {},
   "outputs": [],
   "source": [
    "X_train, X_test, y_train, y_test = clean_data()"
   ]
  },
  {
   "cell_type": "code",
   "execution_count": 187,
   "id": "1aa4d05e",
   "metadata": {},
   "outputs": [
    {
     "data": {
      "text/plain": [
       "array([-0.67458868, -0.19509083, -0.31393173])"
      ]
     },
     "execution_count": 187,
     "metadata": {},
     "output_type": "execute_result"
    }
   ],
   "source": [
    "X_train[0]"
   ]
  },
  {
   "cell_type": "code",
   "execution_count": 186,
   "id": "cccfd502",
   "metadata": {
    "scrolled": false
   },
   "outputs": [
    {
     "name": "stdout",
     "output_type": "stream",
     "text": [
      "scores for model: \n",
      "Train R2 score: 0.01\n",
      "Train rmse score: 13.79\n",
      "Test R2 score: -0.0\n",
      "Test rmse score: 14.37\n"
     ]
    }
   ],
   "source": [
    "build_xgb()"
   ]
  },
  {
   "cell_type": "code",
   "execution_count": 97,
   "id": "cd4ea33e",
   "metadata": {
    "scrolled": true
   },
   "outputs": [
    {
     "data": {
      "text/plain": [
       "[1]"
      ]
     },
     "execution_count": 97,
     "metadata": {},
     "output_type": "execute_result"
    }
   ],
   "source": [
    "list([1,2,3,4])[0:1]"
   ]
  },
  {
   "cell_type": "code",
   "execution_count": 176,
   "id": "3ecd05f6",
   "metadata": {
    "scrolled": true
   },
   "outputs": [
    {
     "data": {
      "text/plain": [
       "numpy.ndarray"
      ]
     },
     "execution_count": 176,
     "metadata": {},
     "output_type": "execute_result"
    }
   ],
   "source": [
    "type(X_test[0:1])"
   ]
  },
  {
   "cell_type": "code",
   "execution_count": 173,
   "id": "d6c57738",
   "metadata": {},
   "outputs": [
    {
     "name": "stdout",
     "output_type": "stream",
     "text": [
      "<xgboost.core.DMatrix object at 0x7f0f2f01c9a0>\n"
     ]
    }
   ],
   "source": [
    "print(dtrain)"
   ]
  },
  {
   "cell_type": "code",
   "execution_count": 167,
   "id": "cb3028b9",
   "metadata": {},
   "outputs": [],
   "source": [
    "#xgb.load_model(\"xgb_model.json\")\n",
    "\n",
    "bst = xgb.Booster()  # init model\n",
    "bst.load_model('xgb_model.json')  # load data"
   ]
  },
  {
   "cell_type": "code",
   "execution_count": 169,
   "id": "c0c0c542",
   "metadata": {},
   "outputs": [
    {
     "data": {
      "text/plain": [
       "1.9288017"
      ]
     },
     "execution_count": 169,
     "metadata": {},
     "output_type": "execute_result"
    }
   ],
   "source": [
    "dtest = xgb.DMatrix(X_test[0:1])\n",
    "bst.predict(dtest)[0]"
   ]
  },
  {
   "cell_type": "code",
   "execution_count": 133,
   "id": "bdbbfe5c",
   "metadata": {},
   "outputs": [],
   "source": [
    "dtrain = xgb.DMatrix(X_train[0:1], label=y_train[0:1])"
   ]
  },
  {
   "cell_type": "code",
   "execution_count": 134,
   "id": "ebee0659",
   "metadata": {},
   "outputs": [],
   "source": [
    "dtrain = xgb.DMatrix(X_train[0:1])"
   ]
  },
  {
   "cell_type": "code",
   "execution_count": 195,
   "id": "860f73b6",
   "metadata": {},
   "outputs": [
    {
     "data": {
      "text/plain": [
       "array([1.7751585], dtype=float32)"
      ]
     },
     "execution_count": 195,
     "metadata": {},
     "output_type": "execute_result"
    }
   ],
   "source": [
    "bst = xgb.Booster()  # init model\n",
    "bst.load_model('xgb_model.json')  \n",
    "dtrain = xgb.DMatrix(X_train[0:1])\n",
    "bst.predict(dtrain)"
   ]
  },
  {
   "cell_type": "code",
   "execution_count": 214,
   "id": "4bdb5434",
   "metadata": {},
   "outputs": [
    {
     "data": {
      "text/plain": [
       "array([], dtype=float32)"
      ]
     },
     "execution_count": 214,
     "metadata": {},
     "output_type": "execute_result"
    }
   ],
   "source": [
    "dtrain."
   ]
  },
  {
   "cell_type": "code",
   "execution_count": 208,
   "id": "7fd7aead",
   "metadata": {
    "scrolled": true
   },
   "outputs": [
    {
     "data": {
      "text/plain": [
       "1"
      ]
     },
     "execution_count": 208,
     "metadata": {},
     "output_type": "execute_result"
    }
   ],
   "source": [
    "len(X_train[1:2])"
   ]
  },
  {
   "cell_type": "code",
   "execution_count": 122,
   "id": "32225a6b",
   "metadata": {},
   "outputs": [
    {
     "data": {
      "text/plain": [
       "-0.5486868473365211"
      ]
     },
     "execution_count": 122,
     "metadata": {},
     "output_type": "execute_result"
    }
   ],
   "source": [
    "X_train[0][0]"
   ]
  },
  {
   "cell_type": "code",
   "execution_count": 99,
   "id": "cae95f88",
   "metadata": {},
   "outputs": [
    {
     "data": {
      "text/plain": [
       "array([[ 0.28681183],\n",
       "       [ 3.005861  ],\n",
       "       [ 4.2658505 ],\n",
       "       [-0.3472364 ],\n",
       "       [ 0.93946594],\n",
       "       [ 1.5269251 ],\n",
       "       [ 1.2120079 ],\n",
       "       [-5.8329687 ],\n",
       "       [-6.7416406 ],\n",
       "       [ 0.66147184]], dtype=float32)"
      ]
     },
     "execution_count": 99,
     "metadata": {},
     "output_type": "execute_result"
    }
   ],
   "source": [
    "keras_model.predict(X_train[0:10])"
   ]
  },
  {
   "cell_type": "code",
   "execution_count": 69,
   "id": "4899b94e",
   "metadata": {},
   "outputs": [],
   "source": [
    "keras_model = load_keras(\"model_keras\")"
   ]
  },
  {
   "cell_type": "code",
   "execution_count": 88,
   "id": "c96a90b9",
   "metadata": {},
   "outputs": [
    {
     "data": {
      "text/plain": [
       "array([0.28681183], dtype=float32)"
      ]
     },
     "execution_count": 88,
     "metadata": {},
     "output_type": "execute_result"
    }
   ],
   "source": [
    "keras_model.predict(X_train)[0]"
   ]
  },
  {
   "cell_type": "code",
   "execution_count": 185,
   "id": "3a6a2d46",
   "metadata": {},
   "outputs": [
    {
     "name": "stdout",
     "output_type": "stream",
     "text": [
      "Epoch 1/3\n",
      "154/154 [==============================] - 1s 3ms/step - loss: 11.0835\n",
      "Epoch 2/3\n",
      "154/154 [==============================] - 1s 4ms/step - loss: 10.9818\n",
      "Epoch 3/3\n",
      "154/154 [==============================] - 0s 3ms/step - loss: 10.9862\n",
      "scores for model: \n",
      "Train R2 score: -0.0\n",
      "Train rmse score: 13.88\n",
      "Test R2 score: -0.01\n",
      "Test rmse score: 14.44\n",
      "INFO:tensorflow:Assets written to: model_keras/assets\n"
     ]
    }
   ],
   "source": [
    "build_keras(3)"
   ]
  },
  {
   "cell_type": "code",
   "execution_count": 72,
   "id": "f56d53d8",
   "metadata": {
    "scrolled": true
   },
   "outputs": [
    {
     "name": "stdout",
     "output_type": "stream",
     "text": [
      "scores for model: \n",
      "Train R2 score: 0.12\n",
      "Train rmse score: 13.08\n",
      "Test R2 score: -0.09\n",
      "Test rmse score: 14.79\n"
     ]
    }
   ],
   "source": [
    "keras_train = keras_model.predict(X_train)\n",
    "keras_test = keras_model.predict(X_test)\n",
    "evaluate_model(keras_train, keras_test)"
   ]
  },
  {
   "cell_type": "code",
   "execution_count": null,
   "id": "41ee1914",
   "metadata": {},
   "outputs": [],
   "source": []
  },
  {
   "cell_type": "code",
   "execution_count": 10,
   "id": "c831ba98",
   "metadata": {},
   "outputs": [
    {
     "data": {
      "text/plain": [
       "numpy.float64"
      ]
     },
     "execution_count": 10,
     "metadata": {},
     "output_type": "execute_result"
    }
   ],
   "source": [
    "type(X_test[0][0])\n",
    "#question - even though i've rounded, the type is still float64.  how do i make entire set float16 or smaller?"
   ]
  },
  {
   "cell_type": "code",
   "execution_count": 6,
   "id": "38a1e857",
   "metadata": {},
   "outputs": [
    {
     "data": {
      "text/plain": [
       "-0.23"
      ]
     },
     "execution_count": 6,
     "metadata": {},
     "output_type": "execute_result"
    }
   ],
   "source": [
    "X_test[0][0]"
   ]
  },
  {
   "cell_type": "code",
   "execution_count": 16,
   "id": "318ac190",
   "metadata": {},
   "outputs": [
    {
     "data": {
      "text/plain": [
       "numpy.float16"
      ]
     },
     "execution_count": 16,
     "metadata": {},
     "output_type": "execute_result"
    }
   ],
   "source": [
    "type(X_test[0][0].astype('float16'))"
   ]
  },
  {
   "cell_type": "code",
   "execution_count": 62,
   "id": "4738040f",
   "metadata": {},
   "outputs": [
    {
     "name": "stdout",
     "output_type": "stream",
     "text": [
      "scores for model: \n",
      "Train R2 score: 0.02\n",
      "Train rmse score: 13.77\n",
      "Test R2 score: -0.0\n",
      "Test rmse score: 14.17\n"
     ]
    }
   ],
   "source": [
    "#with hometeam, awayteam, and gametype, PCA and not standardizing y and PCA=100, no rounding\n",
    "build_xgb()"
   ]
  },
  {
   "cell_type": "code",
   "execution_count": 25,
   "id": "8b908cc9",
   "metadata": {},
   "outputs": [
    {
     "name": "stdout",
     "output_type": "stream",
     "text": [
      "scores for model: \n",
      "Train R2 score: 0.04\n",
      "Train rmse score: 13.71\n",
      "Test R2 score: -0.0\n",
      "Test rmse score: 14.03\n"
     ]
    }
   ],
   "source": [
    "#with hometeam, awayteam, and gametype, PCA and not standardizing y and PCA=1000, no rounding\n",
    "build_xgb()"
   ]
  },
  {
   "cell_type": "code",
   "execution_count": 21,
   "id": "8ea2aa1b",
   "metadata": {},
   "outputs": [
    {
     "name": "stdout",
     "output_type": "stream",
     "text": [
      "scores for model: \n",
      "Train R2 score: 0.02\n",
      "Train rmse score: 13.77\n",
      "Test R2 score: -0.0\n",
      "Test rmse score: 14.29\n"
     ]
    }
   ],
   "source": [
    "#with hometeam, awayteam, and gametype, PCA and not standardizing y and PCA=50\n",
    "build_xgb()"
   ]
  },
  {
   "cell_type": "code",
   "execution_count": 18,
   "id": "81a3e134",
   "metadata": {},
   "outputs": [
    {
     "name": "stdout",
     "output_type": "stream",
     "text": [
      "scores for model: \n",
      "Train R2 score: 0.02\n",
      "Train rmse score: 13.71\n",
      "Test R2 score: -0.01\n",
      "Test rmse score: 14.39\n"
     ]
    }
   ],
   "source": [
    "#with hometeam, awayteam, and gametype, PCA and not standardizing y and PCA=100\n",
    "build_xgb()"
   ]
  },
  {
   "cell_type": "code",
   "execution_count": 8,
   "id": "3f5e7fb5",
   "metadata": {},
   "outputs": [
    {
     "name": "stdout",
     "output_type": "stream",
     "text": [
      "scores for model: \n",
      "Train R2 score: 0.03\n",
      "Train rmse score: 13.81\n",
      "Test R2 score: -0.0\n",
      "Test rmse score: 13.89\n"
     ]
    }
   ],
   "source": [
    "#with hometeam, awayteam, and gametype, PCA and not standardizing y and PCA=1000\n",
    "build_xgb()"
   ]
  },
  {
   "cell_type": "code",
   "execution_count": 19,
   "id": "46355c0c",
   "metadata": {},
   "outputs": [
    {
     "name": "stdout",
     "output_type": "stream",
     "text": [
      "scores for model: \n",
      "Train R2 score: 0.05\n",
      "Train rmse score: 13.58\n",
      "Test R2 score: 0.02\n",
      "Test rmse score: 13.97\n"
     ]
    }
   ],
   "source": [
    "#with hometeam, awayteam, and gametype, no PCA and not standardizing y and PCA=1000\n",
    "build_xgb()"
   ]
  },
  {
   "cell_type": "code",
   "execution_count": 52,
   "id": "ae3028ab",
   "metadata": {},
   "outputs": [
    {
     "name": "stdout",
     "output_type": "stream",
     "text": [
      "scores for model: \n",
      "Train R2 score: 0.02\n",
      "Train rmse score: 0.99\n",
      "Test R2 score: 0.0\n",
      "Test rmse score: 0.98\n"
     ]
    }
   ],
   "source": [
    "#with hometeam, awayteam, and gametype, and no PCA\n",
    "build_xgb()"
   ]
  },
  {
   "cell_type": "code",
   "execution_count": 7,
   "id": "39ab0738",
   "metadata": {
    "scrolled": true
   },
   "outputs": [
    {
     "name": "stdout",
     "output_type": "stream",
     "text": [
      "scores for model: \n",
      "Train R2 score: 0.01\n",
      "Train rmse score: 1.0\n",
      "Test R2 score: -0.04\n",
      "Test rmse score: 1.0\n"
     ]
    }
   ],
   "source": [
    "#without hometeam, awayteam, and gametype\n",
    "build_xgb()"
   ]
  },
  {
   "cell_type": "code",
   "execution_count": 33,
   "id": "c26a7f69",
   "metadata": {},
   "outputs": [
    {
     "name": "stdout",
     "output_type": "stream",
     "text": [
      "[WARNING] [2022-01-14 10:12:26,000:Client-EnsembleBuilder] No models better than random - using Dummy loss!Number of models besides current dummy model: 1. Number of dummy models: 1\n",
      "[WARNING] [2022-01-14 10:12:26,785:Client-EnsembleBuilder] No models better than random - using Dummy loss!Number of models besides current dummy model: 1. Number of dummy models: 1\n",
      "[WARNING] [2022-01-14 10:12:43,881:Client-EnsembleBuilder] No models better than random - using Dummy loss!Number of models besides current dummy model: 1. Number of dummy models: 1\n",
      "scores for model: \n",
      "Train R2 score: -0.0\n",
      "Train rmse score: 13.95\n",
      "Test R2 score: -0.0\n",
      "Test rmse score: 14.07\n"
     ]
    }
   ],
   "source": [
    "# all data, not normalizing y, pca=100\n",
    "build_automl()"
   ]
  },
  {
   "cell_type": "code",
   "execution_count": 9,
   "id": "fe0c43c3",
   "metadata": {},
   "outputs": [
    {
     "name": "stdout",
     "output_type": "stream",
     "text": [
      "[WARNING] [2022-01-13 15:17:52,909:Client-AutoML(1):07c6fd71-74c7-11ec-b175-3052cb825aaf] Capping the per_run_time_limit to 29.0 to have time for a least 2 models in each process.\n",
      "scores for model: \n",
      "Train R2 score: -0.0\n",
      "Train rmse score: 14.02\n",
      "Test R2 score: -0.0\n",
      "Test rmse score: 13.86\n"
     ]
    }
   ],
   "source": [
    "build_automl()"
   ]
  },
  {
   "cell_type": "code",
   "execution_count": null,
   "id": "81cf7eaf",
   "metadata": {},
   "outputs": [],
   "source": []
  },
  {
   "cell_type": "code",
   "execution_count": 63,
   "id": "a82aee09",
   "metadata": {},
   "outputs": [],
   "source": []
  },
  {
   "cell_type": "code",
   "execution_count": 24,
   "id": "46566430",
   "metadata": {
    "scrolled": true
   },
   "outputs": [
    {
     "name": "stdout",
     "output_type": "stream",
     "text": [
      "Trial 3 Complete [00h 00m 35s]\n",
      "val_loss: 1.073466181755066\n",
      "\n",
      "Best val_loss So Far: 1.073466181755066\n",
      "Total elapsed time: 00h 01m 50s\n",
      "INFO:tensorflow:Oracle triggered exit\n",
      "Epoch 1/10\n",
      "154/154 [==============================] - 7s 9ms/step - loss: 1.1181 - mean_squared_error: 1.1181\n",
      "Epoch 2/10\n",
      "154/154 [==============================] - 2s 10ms/step - loss: 0.9101 - mean_squared_error: 0.9101\n",
      "Epoch 3/10\n",
      "154/154 [==============================] - 2s 10ms/step - loss: 0.7821 - mean_squared_error: 0.7821\n",
      "Epoch 4/10\n",
      "154/154 [==============================] - 2s 11ms/step - loss: 0.6648 - mean_squared_error: 0.6648\n",
      "Epoch 5/10\n",
      "154/154 [==============================] - 2s 10ms/step - loss: 0.5815 - mean_squared_error: 0.5815\n",
      "Epoch 6/10\n",
      "154/154 [==============================] - 2s 10ms/step - loss: 0.5240 - mean_squared_error: 0.5240\n",
      "Epoch 7/10\n",
      "154/154 [==============================] - 2s 10ms/step - loss: 0.4323 - mean_squared_error: 0.4323\n",
      "Epoch 8/10\n",
      "154/154 [==============================] - 2s 11ms/step - loss: 0.3816 - mean_squared_error: 0.3816\n",
      "Epoch 9/10\n",
      "154/154 [==============================] - 2s 10ms/step - loss: 0.3645 - mean_squared_error: 0.3645\n",
      "Epoch 10/10\n",
      "154/154 [==============================] - 2s 10ms/step - loss: 0.3421 - mean_squared_error: 0.3421\n",
      "INFO:tensorflow:Assets written to: ./structured_data_regressor/best_model/assets\n"
     ]
    },
    {
     "data": {
      "text/plain": [
       "<tensorflow.python.keras.callbacks.History at 0x7f4a94575dc0>"
      ]
     },
     "execution_count": 24,
     "metadata": {},
     "output_type": "execute_result"
    }
   ],
   "source": [
    "reg = ak.StructuredDataRegressor(max_trials=3, overwrite=True)\n",
    "# Feed the structured data regressor with training data.\n",
    "reg.fit(X_train, y_train, epochs=10)"
   ]
  },
  {
   "cell_type": "code",
   "execution_count": 25,
   "id": "a1f12fc4",
   "metadata": {},
   "outputs": [
    {
     "name": "stdout",
     "output_type": "stream",
     "text": [
      "154/154 [==============================] - 2s 10ms/step\n",
      "52/52 [==============================] - 1s 10ms/step\n",
      "154/154 [==============================] - 5s 9ms/step - loss: 0.2241 - mean_squared_error: 0.2241\n",
      "[0.22414299845695496, 0.22414299845695496]\n",
      "52/52 [==============================] - 4s 9ms/step - loss: 1.4043 - mean_squared_error: 1.4043\n",
      "[1.4043149948120117, 1.4043149948120117]\n"
     ]
    }
   ],
   "source": [
    "autokeras_train_pred = reg.predict(X_train)\n",
    "autokeras_test_pred = reg.predict(X_test)\n",
    "# Evaluate the best model with testing data.\n",
    "print(reg.evaluate(X_train, y_train))\n",
    "print(reg.evaluate(X_test, y_test))\n"
   ]
  },
  {
   "cell_type": "code",
   "execution_count": 27,
   "id": "7ebf9c6d",
   "metadata": {},
   "outputs": [
    {
     "name": "stdout",
     "output_type": "stream",
     "text": [
      "Test R2 score: -0.376924485817705\n",
      "Test rmse score: 1.1850378273574964\n"
     ]
    }
   ],
   "source": [
    "print(\"Test R2 score:\", r2_score(y_test, autokeras_test_pred))\n",
    "print(\"Test rmse score:\", np.sqrt(MSE(y_test, autokeras_test_pred)))"
   ]
  },
  {
   "cell_type": "code",
   "execution_count": 191,
   "id": "077a8684",
   "metadata": {},
   "outputs": [
    {
     "name": "stdout",
     "output_type": "stream",
     "text": [
      "[[0.1, 0.9, 0.9]]\n"
     ]
    }
   ],
   "source": [
    "import requests\n",
    "\n",
    "url = 'http://localhost:5000/results'\n",
    "r = requests.post(url,json=[[.1, .9, .9]])\n",
    "\n",
    "\n",
    "print(r.json())"
   ]
  },
  {
   "cell_type": "code",
   "execution_count": 194,
   "id": "0861be57",
   "metadata": {},
   "outputs": [
    {
     "data": {
      "text/plain": [
       "array([[0.1, 0.9, 0.9]])"
      ]
     },
     "execution_count": 194,
     "metadata": {},
     "output_type": "execute_result"
    }
   ],
   "source": [
    "np.array(r.json())"
   ]
  },
  {
   "cell_type": "code",
   "execution_count": null,
   "id": "da74bec4",
   "metadata": {},
   "outputs": [],
   "source": []
  },
  {
   "cell_type": "code",
   "execution_count": null,
   "id": "aa2c812b",
   "metadata": {},
   "outputs": [],
   "source": []
  },
  {
   "cell_type": "code",
   "execution_count": null,
   "id": "2fe94c44",
   "metadata": {},
   "outputs": [],
   "source": []
  },
  {
   "cell_type": "code",
   "execution_count": null,
   "id": "645885b7",
   "metadata": {},
   "outputs": [],
   "source": []
  }
 ],
 "metadata": {
  "kernelspec": {
   "display_name": "springboard_final2",
   "language": "python",
   "name": "springboard_final2"
  },
  "language_info": {
   "codemirror_mode": {
    "name": "ipython",
    "version": 3
   },
   "file_extension": ".py",
   "mimetype": "text/x-python",
   "name": "python",
   "nbconvert_exporter": "python",
   "pygments_lexer": "ipython3",
   "version": "3.8.0"
  }
 },
 "nbformat": 4,
 "nbformat_minor": 5
}
