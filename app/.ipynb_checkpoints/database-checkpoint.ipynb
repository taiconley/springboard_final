{
 "cells": [
  {
   "cell_type": "code",
   "execution_count": 2,
   "id": "6b06bc5d",
   "metadata": {},
   "outputs": [],
   "source": [
    "from databaseClass import DB\n",
    "import sweetviz as sv\n",
    "from pandas_profiling import ProfileReport"
   ]
  },
  {
   "cell_type": "code",
   "execution_count": 3,
   "id": "6692b4c5",
   "metadata": {},
   "outputs": [],
   "source": [
    "import utils\n",
    "userName = utils.userName\n",
    "userPass = utils.userPass\n",
    "dbName = utils.dbName"
   ]
  },
  {
   "cell_type": "code",
   "execution_count": 4,
   "id": "62a01124",
   "metadata": {},
   "outputs": [],
   "source": [
    "db = DB(userName = userName, userPass = userPass, dataBaseName = dbName)"
   ]
  },
  {
   "cell_type": "code",
   "execution_count": 5,
   "id": "ce3bfded",
   "metadata": {},
   "outputs": [
    {
     "data": {
      "text/html": [
       "<div>\n",
       "<style scoped>\n",
       "    .dataframe tbody tr th:only-of-type {\n",
       "        vertical-align: middle;\n",
       "    }\n",
       "\n",
       "    .dataframe tbody tr th {\n",
       "        vertical-align: top;\n",
       "    }\n",
       "\n",
       "    .dataframe thead th {\n",
       "        text-align: right;\n",
       "    }\n",
       "</style>\n",
       "<table border=\"1\" class=\"dataframe\">\n",
       "  <thead>\n",
       "    <tr style=\"text-align: right;\">\n",
       "      <th></th>\n",
       "      <th>count</th>\n",
       "    </tr>\n",
       "  </thead>\n",
       "  <tbody>\n",
       "    <tr>\n",
       "      <th>0</th>\n",
       "      <td>3040524</td>\n",
       "    </tr>\n",
       "  </tbody>\n",
       "</table>\n",
       "</div>"
      ],
      "text/plain": [
       "     count\n",
       "0  3040524"
      ]
     },
     "execution_count": 5,
     "metadata": {},
     "output_type": "execute_result"
    }
   ],
   "source": [
    "db.DBtoDF(\"SELECT COUNT(*) FROM public.pbp\")"
   ]
  },
  {
   "cell_type": "code",
   "execution_count": 6,
   "id": "51778aff",
   "metadata": {},
   "outputs": [],
   "source": [
    "def sweetviz_profile(df):\n",
    "    analyzed_df = sv.analyze(df)\n",
    "    analyzed_df.show_html(\"analyzed_df.html\")\n",
    "    \n",
    "def pd_profile(df):\n",
    "    '''\n",
    "    pd_profile function takes dataframe and outputs html auto eda\n",
    "    '''\n",
    "    prof = ProfileReport(df)\n",
    "    prof.to_file(output_file='output.html')"
   ]
  },
  {
   "cell_type": "code",
   "execution_count": 10,
   "id": "3a0807f3",
   "metadata": {},
   "outputs": [],
   "source": [
    "df = 0\n",
    "df = db.DBtoDF(\"SELECT * FROM public.pbp TABLESAMPLE BERNOULLI(20)\")"
   ]
  },
  {
   "cell_type": "code",
   "execution_count": 11,
   "id": "46c5f1ee",
   "metadata": {},
   "outputs": [
    {
     "data": {
      "application/vnd.jupyter.widget-view+json": {
       "model_id": "a344ecf697ed46c3bcd675af3fe12f90",
       "version_major": 2,
       "version_minor": 0
      },
      "text/plain": [
       "Summarize dataset:   0%|          | 0/5 [00:00<?, ?it/s]"
      ]
     },
     "metadata": {},
     "output_type": "display_data"
    },
    {
     "name": "stderr",
     "output_type": "stream",
     "text": [
      "/home/tai/Desktop/Projects/springboard_final/app/env/lib/python3.8/site-packages/pandas_profiling/model/correlations.py:55: UserWarning: There was an attempt to calculate the cramers correlation, but this failed.\n",
      "To hide this warning, disable the calculation\n",
      "(using `df.profile_report(correlations={\"cramers\": {\"calculate\": False}})`\n",
      "If this is problematic for your use case, please report this as an issue:\n",
      "https://github.com/pandas-profiling/pandas-profiling/issues\n",
      "(include the error message: 'No data; `observed` has size 0.')\n",
      "  warnings.warn(\n"
     ]
    },
    {
     "data": {
      "application/vnd.jupyter.widget-view+json": {
       "model_id": "cab526f171304a0fa6b1f00c5aac65a9",
       "version_major": 2,
       "version_minor": 0
      },
      "text/plain": [
       "Generate report structure:   0%|          | 0/1 [00:00<?, ?it/s]"
      ]
     },
     "metadata": {},
     "output_type": "display_data"
    },
    {
     "data": {
      "application/vnd.jupyter.widget-view+json": {
       "model_id": "d50df7a698b244a981e54159d37841b3",
       "version_major": 2,
       "version_minor": 0
      },
      "text/plain": [
       "Render HTML:   0%|          | 0/1 [00:00<?, ?it/s]"
      ]
     },
     "metadata": {},
     "output_type": "display_data"
    },
    {
     "data": {
      "application/vnd.jupyter.widget-view+json": {
       "model_id": "4c496a25306f41218d7014613b91cd5d",
       "version_major": 2,
       "version_minor": 0
      },
      "text/plain": [
       "Export report to file:   0%|          | 0/1 [00:00<?, ?it/s]"
      ]
     },
     "metadata": {},
     "output_type": "display_data"
    }
   ],
   "source": [
    "pd_profile(df)"
   ]
  },
  {
   "cell_type": "code",
   "execution_count": null,
   "id": "d4f2fb52",
   "metadata": {},
   "outputs": [],
   "source": []
  }
 ],
 "metadata": {
  "kernelspec": {
   "display_name": "springboard_final2",
   "language": "python",
   "name": "springboard_final2"
  },
  "language_info": {
   "codemirror_mode": {
    "name": "ipython",
    "version": 3
   },
   "file_extension": ".py",
   "mimetype": "text/x-python",
   "name": "python",
   "nbconvert_exporter": "python",
   "pygments_lexer": "ipython3",
   "version": "3.8.0"
  }
 },
 "nbformat": 4,
 "nbformat_minor": 5
}
