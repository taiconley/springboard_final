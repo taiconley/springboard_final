{
 "cells": [
  {
   "cell_type": "code",
   "execution_count": 21,
   "id": "5e087718-d302-4d20-ba7a-3d5f99a02b20",
   "metadata": {},
   "outputs": [],
   "source": [
    "from google.cloud import bigquery\n",
    "import pandas as pd\n",
    "import pandas_gbq\n",
    "import os"
   ]
  },
  {
   "cell_type": "code",
   "execution_count": 43,
   "id": "e7a3be6f-cd58-4beb-ad7c-f7c0275b6dd4",
   "metadata": {},
   "outputs": [],
   "source": [
    "# These need to be updated by user\n",
    "\n",
    "BQ_DATA_SET = 'tai-demo-experimental-gke.springboard' # This is built from the sheet with source files Snap provided\n"
   ]
  },
  {
   "cell_type": "code",
   "execution_count": 37,
   "id": "4a1c1e84-e2bd-4ee0-9827-bacf311ed9f6",
   "metadata": {},
   "outputs": [
    {
     "data": {
      "text/plain": [
       "True"
      ]
     },
     "execution_count": 37,
     "metadata": {},
     "output_type": "execute_result"
    }
   ],
   "source": [
    "\"Unnamed: 40\" in df.columns"
   ]
  },
  {
   "cell_type": "code",
   "execution_count": 46,
   "id": "e6a31159-6cd9-482f-9d97-ffe263e905de",
   "metadata": {},
   "outputs": [
    {
     "name": "stderr",
     "output_type": "stream",
     "text": [
      "1it [00:12, 12.83s/it]\n",
      "1it [00:07,  7.59s/it]\n",
      "1it [00:09,  9.72s/it]\n",
      "1it [00:05,  5.11s/it]\n",
      "1it [00:09,  9.96s/it]\n",
      "1it [00:09,  9.02s/it]\n"
     ]
    }
   ],
   "source": [
    "# collect files\n",
    "\n",
    "mypath = './data'\n",
    "files = [f for f in os.listdir(mypath) if os.path.isfile(os.path.join(mypath, f))]\n",
    "\n",
    "# send each file to BigQuery\n",
    "\n",
    "schemas = []\n",
    "for file in files:\n",
    "    full_path = f'{mypath}/{file}'\n",
    "    df = pd.read_csv(full_path)\n",
    "    if \"Unnamed: 40\" in df.columns:\n",
    "        df = df.drop([\"Unnamed: 40\"], axis=1)\n",
    "    file_remove_csv = file.replace('.csv','')\n",
    "    table = f'{BQ_DATA_SET}.{file_remove_csv}'\n",
    "    pandas_gbq.to_gbq(df, table)"
   ]
  },
  {
   "cell_type": "code",
   "execution_count": null,
   "id": "07a64bcc-2453-400f-a7d4-c4c20c6da1b3",
   "metadata": {},
   "outputs": [],
   "source": []
  }
 ],
 "metadata": {
  "environment": {
   "kernel": "python3",
   "name": "common-cpu.m82",
   "type": "gcloud",
   "uri": "gcr.io/deeplearning-platform-release/base-cpu:m82"
  },
  "interpreter": {
   "hash": "31f2aee4e71d21fbe5cf8b01ff0e069b9275f58929596ceb00d14d90e3e16cd6"
  },
  "kernelspec": {
   "display_name": "Python 3",
   "language": "python",
   "name": "python3"
  },
  "language_info": {
   "codemirror_mode": {
    "name": "ipython",
    "version": 3
   },
   "file_extension": ".py",
   "mimetype": "text/x-python",
   "name": "python",
   "nbconvert_exporter": "python",
   "pygments_lexer": "ipython3",
   "version": "3.7.10"
  }
 },
 "nbformat": 4,
 "nbformat_minor": 5
}
