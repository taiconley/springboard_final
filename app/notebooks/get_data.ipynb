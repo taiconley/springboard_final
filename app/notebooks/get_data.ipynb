{
 "cells": [
  {
   "cell_type": "code",
   "execution_count": 3,
   "id": "93bba3ec",
   "metadata": {},
   "outputs": [],
   "source": [
    "#from google.cloud import bigquery\n",
    "import pandas as pd\n",
    "#import pandas_gbq\n",
    "import os"
   ]
  },
  {
   "cell_type": "code",
   "execution_count": 43,
   "id": "1acc8ca2",
   "metadata": {},
   "outputs": [],
   "source": [
    "# These need to be updated by user\n",
    "\n",
    "BQ_DATA_SET = 'tai-demo-experimental-gke.springboard' # This is built from the sheet with source files provided\n"
   ]
  },
  {
   "cell_type": "code",
   "execution_count": 37,
   "id": "9e46cf00",
   "metadata": {},
   "outputs": [
    {
     "data": {
      "text/plain": [
       "True"
      ]
     },
     "execution_count": 37,
     "metadata": {},
     "output_type": "execute_result"
    }
   ],
   "source": [
    "\"Unnamed: 40\" in df.columns"
   ]
  },
  {
   "cell_type": "code",
   "execution_count": 46,
   "id": "dbe53ce0",
   "metadata": {},
   "outputs": [
    {
     "name": "stderr",
     "output_type": "stream",
     "text": [
      "1it [00:12, 12.83s/it]\n",
      "1it [00:07,  7.59s/it]\n",
      "1it [00:09,  9.72s/it]\n",
      "1it [00:05,  5.11s/it]\n",
      "1it [00:09,  9.96s/it]\n",
      "1it [00:09,  9.02s/it]\n"
     ]
    }
   ],
   "source": [
    "# collect files\n",
    "\n",
    "mypath = './data'\n",
    "files = [f for f in os.listdir(mypath) if os.path.isfile(os.path.join(mypath, f))]\n",
    "\n",
    "# send each file to BigQuery\n",
    "\n",
    "schemas = []\n",
    "for file in files:\n",
    "    full_path = f'{mypath}/{file}'\n",
    "    df = pd.read_csv(full_path)\n",
    "    if \"Unnamed: 40\" in df.columns:\n",
    "        df = df.drop([\"Unnamed: 40\"], axis=1)\n",
    "    file_remove_csv = file.replace('.csv','')\n",
    "    table = f'{BQ_DATA_SET}.{file_remove_csv}'\n",
    "    pandas_gbq.to_gbq(df, table)"
   ]
  },
  {
   "cell_type": "code",
   "execution_count": 8,
   "id": "6a6624ee",
   "metadata": {},
   "outputs": [],
   "source": [
    "from databaseClass import DB\n",
    "import utils\n",
    "import glob"
   ]
  },
  {
   "cell_type": "code",
   "execution_count": 6,
   "id": "0485eeb8",
   "metadata": {},
   "outputs": [],
   "source": [
    "userName = utils.userName\n",
    "userPass = utils.userPass\n",
    "dbName = utils.dbName\n",
    "db = DB(userName = userName, userPass = userPass, dataBaseName = dbName)"
   ]
  },
  {
   "cell_type": "code",
   "execution_count": null,
   "id": "cef37305",
   "metadata": {},
   "outputs": [],
   "source": [
    "##################### \n",
    "# get data into postgres"
   ]
  },
  {
   "cell_type": "code",
   "execution_count": 9,
   "id": "2d555b77",
   "metadata": {},
   "outputs": [],
   "source": [
    "mypath = './data'\n",
    "files =  glob.glob(\"data/NBA*\")\n",
    "\n",
    "for file in files:\n",
    "    df = pd.read_csv(file)\n",
    "    if \"Unnamed: 40\" in df.columns:\n",
    "        df = df.drop([\"Unnamed: 40\"], axis=1)\n",
    "    db.DFtoDB(df, 'pbp_test')    "
   ]
  },
  {
   "cell_type": "code",
   "execution_count": 10,
   "id": "a5187f82",
   "metadata": {},
   "outputs": [
    {
     "data": {
      "text/plain": [
       "['data/NBA_PBP_2020-21.csv',\n",
       " 'data/NBA_PBP_2015-16.csv',\n",
       " 'data/NBA_PBP_2018-19.csv',\n",
       " 'data/NBA_PBP_2019-20.csv',\n",
       " 'data/NBA_PBP_2017-18.csv',\n",
       " 'data/NBA_PBP_2016-17.csv']"
      ]
     },
     "execution_count": 10,
     "metadata": {},
     "output_type": "execute_result"
    }
   ],
   "source": [
    "files"
   ]
  },
  {
   "cell_type": "code",
   "execution_count": 11,
   "id": "2c1ff4dc",
   "metadata": {},
   "outputs": [
    {
     "name": "stdout",
     "output_type": "stream",
     "text": [
      "/home/tai/Desktop/Projects/springboard_final/app/env/bin/python\r\n"
     ]
    }
   ],
   "source": [
    "!which python"
   ]
  }
 ],
 "metadata": {
  "environment": {
   "kernel": "python3",
   "name": "common-cpu.m82",
   "type": "gcloud",
   "uri": "gcr.io/deeplearning-platform-release/base-cpu:m82"
  },
  "interpreter": {
   "hash": "31f2aee4e71d21fbe5cf8b01ff0e069b9275f58929596ceb00d14d90e3e16cd6"
  },
  "kernelspec": {
   "display_name": "Python 3",
   "language": "python",
   "name": "python3"
  },
  "language_info": {
   "codemirror_mode": {
    "name": "ipython",
    "version": 3
   },
   "file_extension": ".py",
   "mimetype": "text/x-python",
   "name": "python",
   "nbconvert_exporter": "python",
   "pygments_lexer": "ipython3",
   "version": "3.8.0"
  }
 },
 "nbformat": 4,
 "nbformat_minor": 5
}
